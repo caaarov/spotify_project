{
 "cells": [
  {
   "cell_type": "code",
   "execution_count": 1,
   "metadata": {},
   "outputs": [
    {
     "name": "stderr",
     "output_type": "stream",
     "text": [
      "/Users/carolinvogt/opt/anaconda3/lib/python3.8/site-packages/fuzzywuzzy/fuzz.py:11: UserWarning: Using slow pure-python SequenceMatcher. Install python-Levenshtein to remove this warning\n",
      "  warnings.warn('Using slow pure-python SequenceMatcher. Install python-Levenshtein to remove this warning')\n"
     ]
    }
   ],
   "source": [
    "from bs4 import BeautifulSoup\n",
    "import requests\n",
    "import pandas as pd\n",
    "import numpy as np\n",
    "from time import sleep\n",
    "import re\n",
    "from fuzzywuzzy import fuzz\n",
    "import joblib\n",
    "import pickle"
   ]
  },
  {
   "cell_type": "markdown",
   "metadata": {},
   "source": [
    "# LETS FIND YOUR NEW FAVORITE SONG"
   ]
  },
  {
   "cell_type": "code",
   "execution_count": 34,
   "metadata": {},
   "outputs": [
    {
     "name": "stdout",
     "output_type": "stream",
     "text": [
      "Please enter your favorite song: pokerface\n",
      "Your Song is not HOT! Lets search on Spotify:\n",
      "\n",
      "For a recommendation I need the name of the artist:\n",
      "__________________________________\n",
      "\n",
      "Is the artist of your favorit song Lady Gaga ? yes\n",
      "\n",
      "\n",
      "Saddle in the Rain  by  John Prine\n",
      "https://open.spotify.com/track/6zZcEeo0YdCmUhCp7O4Ygu\n",
      "____________________________________________\n",
      "\n",
      "I'll Be Gone  by  Dwight Yoakam\n",
      "https://open.spotify.com/track/71Ly6hoN9hKBoGRJvohlkZ\n",
      "____________________________________________\n",
      "\n",
      "Standing On The Top  by  The Temptations\n",
      "https://open.spotify.com/track/3zOJ3Yw2TNg0yEUiPN3UMw\n",
      "____________________________________________\n",
      "\n",
      "Enjoy your new FAVORITE SONG! Always happy to help :)\n"
     ]
    }
   ],
   "source": [
    "# (1) Overall function\n",
    "\n",
    "def user_interaction():\n",
    "    \n",
    "    user_input=input(\"Please enter your favorite song: \")\n",
    "    song_not_found=True\n",
    "    \n",
    "    # (1) Check if in charts\n",
    "    song_not_found=charts_song(user_input)\n",
    "    \n",
    "    if song_not_found==False:\n",
    "        print()\n",
    "        print(\"Enjoy your new FAVORITE SONG! Always happy to help :)\")\n",
    "    \n",
    "    elif song_not_found==True:\n",
    "    # (3) Main function for spotify search & recommendation\n",
    "        cluster_predict=spotify_search (user_input)\n",
    "    \n",
    "        cluster_pred(cluster_predict)\n",
    "        print()\n",
    "        print(\"Enjoy your new FAVORITE SONG! Always happy to help :)\")\n",
    "\n",
    "user_interaction()"
   ]
  },
  {
   "cell_type": "markdown",
   "metadata": {},
   "source": [
    "# (2) Functions for importing billboard charts"
   ]
  },
  {
   "cell_type": "code",
   "execution_count": 21,
   "metadata": {},
   "outputs": [],
   "source": [
    "#(2) Check if in charts\n",
    "\n",
    "def charts_song(user_input):\n",
    "    \n",
    "    user_input=user_input\n",
    "    \n",
    "    charts=pd.read_csv(\"charts.csv\")\n",
    "    charts.drop(\"Unnamed: 0\",axis=1,inplace=True)\n",
    "    charts.reset_index(drop=True,inplace=True)\n",
    "    \n",
    "    u_input = (\" \".join(re.findall(r\"[A-Za-z0-9üäöÜÄÖß]*\", user_input))).replace(\"  \",\" \").lower()\n",
    "    \n",
    "    for song in list(charts[\"track\"]):\n",
    "        if fuzz.token_set_ratio(u_input, song)>80:\n",
    "\n",
    "            if song in charts.values:\n",
    "                newsong=charts.sample()\n",
    "                print(\"Your song is currently not HOT!!!\")\n",
    "                print()\n",
    "                print(\"Maybe you also like the song ''{}'' from the artist '{}'.\".format(newsong.iloc[0][0],newsong.iloc[0][1]))\n",
    "                print(\"Currently also in the TOP 100 billboard charts!\")\n",
    "                #Adding the Link to spotify\n",
    "                \n",
    "                song_not_found=False\n",
    "                return song_not_found\n",
    "            \n",
    "    print(\"Your Song is not HOT! Lets search on Spotify:\")\n",
    "    print()\n",
    "    song_not_found=True\n",
    "\n",
    "    return song_not_found"
   ]
  },
  {
   "cell_type": "markdown",
   "metadata": {},
   "source": [
    "**Test if its working for a song in billboard 100**:"
   ]
  },
  {
   "cell_type": "code",
   "execution_count": 3,
   "metadata": {
    "scrolled": true
   },
   "outputs": [
    {
     "name": "stdout",
     "output_type": "stream",
     "text": [
      "Your Song is not HOT! Lets search on Spotify:\n",
      "\n"
     ]
    }
   ],
   "source": [
    "song_not_found=charts_song(\"Pokerface\")"
   ]
  },
  {
   "cell_type": "code",
   "execution_count": 4,
   "metadata": {},
   "outputs": [
    {
     "data": {
      "text/plain": [
       "True"
      ]
     },
     "execution_count": 4,
     "metadata": {},
     "output_type": "execute_result"
    }
   ],
   "source": [
    "song_not_found"
   ]
  },
  {
   "cell_type": "markdown",
   "metadata": {},
   "source": [
    "# (3) Main function for spotify search & recommendation\n",
    "\n",
    "scaler_loaded & model_loaded can be changed"
   ]
  },
  {
   "cell_type": "code",
   "execution_count": 29,
   "metadata": {},
   "outputs": [],
   "source": [
    "import sys\n",
    "#sys.path.insert(1, '/content/drive/MyDrive/Credentials/')\n",
    "from credit_x import *\n",
    "\n",
    "import spotipy\n",
    "import json\n",
    "from spotipy.oauth2 import SpotifyClientCredentials\n",
    "\n",
    "\n",
    "#Initialize SpotiPy with user credentias\n",
    "sp = spotipy.Spotify(auth_manager=SpotifyClientCredentials(client_id= client_id,\n",
    "                                                           client_secret= client_secret))"
   ]
  },
  {
   "cell_type": "code",
   "execution_count": 30,
   "metadata": {},
   "outputs": [],
   "source": [
    "# (3.1) get song_features via song_name, asking for artists\n",
    "\n",
    "def get_song_features(song_name):\n",
    "    results = sp.search(q=song_name, limit=5)\n",
    "    \n",
    "    print(\"For a recommendation I need the name of the artist:\")\n",
    "    print(\"__________________________________\")\n",
    "    print()\n",
    "    for singer in range(len(results[\"tracks\"][\"items\"])):\n",
    "        x = input(\"Is the artist of your favorit song {} ? \".format(results['tracks']['items'][singer]['artists'][0]['name'])).lower()\n",
    "        print()\n",
    "        if x[0] == 'y':\n",
    "            features_find = results['tracks']['items'][singer]['uri']\n",
    "            song_features = sp.audio_features(features_find)\n",
    "            return song_features\n",
    "            break\n",
    "        elif x[0] != 'y':\n",
    "            continue\n",
    "    print()\n",
    "    print(\"Your favorit song is not a popular song on Spotify! :(\")\n",
    "    song_not_found=True\n",
    "    return song_not_found "
   ]
  },
  {
   "cell_type": "code",
   "execution_count": 31,
   "metadata": {},
   "outputs": [],
   "source": [
    "# (3) Main function for spotify search & recommendation\n",
    "\n",
    "def spotify_search (user_input):\n",
    "    \n",
    "    # (1) Function to get song features\n",
    "    # see (3.1) for def get_song_features(user_input)\n",
    "    song_features=get_song_features(user_input)\n",
    "\n",
    "    #creating df out of song_features-dict\n",
    "    song_df=pd.json_normalize(song_features)\n",
    "    song_df.set_index('id',inplace=True)\n",
    "    song_df=song_df[['danceability', 'energy', 'loudness', 'speechiness', 'instrumentalness', 'liveness', 'valence', 'tempo']]\n",
    "\n",
    "    #scaling\n",
    "    scaler_loaded = pickle.load(open('scaler.pickle','rb'))\n",
    "    song_df_scaled=scaler_loaded.transform(song_df)\n",
    "\n",
    "    #modeling\n",
    "    model_loaded = joblib.load('model1.pkl')\n",
    "    cluster_predict = model_loaded.predict(song_df_scaled)\n",
    "    \n",
    "    return cluster_predict"
   ]
  },
  {
   "cell_type": "code",
   "execution_count": 32,
   "metadata": {
    "scrolled": true
   },
   "outputs": [
    {
     "name": "stdout",
     "output_type": "stream",
     "text": [
      "For a recommendation I need the name of the artist:\n",
      "__________________________________\n",
      "\n",
      "Is the artist of your favorit song Lady Gaga ? yes\n",
      "\n",
      "[7]\n"
     ]
    }
   ],
   "source": [
    "# TEST (3) Main function for spotify search & recommendation\n",
    "\n",
    "cluster_predict=spotify_search (\"Pokerface\") #Pkerface normally user_input\n",
    "print(cluster_predict)"
   ]
  },
  {
   "cell_type": "code",
   "execution_count": 33,
   "metadata": {},
   "outputs": [
    {
     "name": "stdout",
     "output_type": "stream",
     "text": [
      "\n",
      "Dreamer 2011 - Driver & Face Remix  by  Limelight\n",
      "https://open.spotify.com/track/4NtnIpUEqm5NunVj1HSIBw\n",
      "____________________________________________\n",
      "\n",
      "Short Dick Man - Radio Mix  by  20 Fingers\n",
      "https://open.spotify.com/track/6FQklDAiYv2CR7BQOWDRx2\n",
      "____________________________________________\n",
      "\n",
      "Good Gravy  by  Sonny Boy Williamson II\n",
      "https://open.spotify.com/track/1UozAHJPjUi3TXRTO0pNcO\n",
      "____________________________________________\n"
     ]
    }
   ],
   "source": [
    "def cluster_pred(cluster_predict):\n",
    "    \n",
    "    db=pd.read_csv(\"/Users/carolinvogt/Becoming_Data_Analyst/Week_07/Day_04/spotify_project/spotify_project/kaggle_clustered_160k.csv\")\n",
    "    db.set_index('id',inplace=True)\n",
    "\n",
    "    cluster_rec_df=db.loc[db[\"cluster\"]==(cluster_predict[0])].sample(n=3)\n",
    "    for song_id in cluster_rec_df.index:\n",
    "        print()\n",
    "        print(sp.track(song_id)[\"name\"],\" by \",sp.track(song_id)[\"artists\"][0][\"name\"])\n",
    "        print(sp.track(song_id)[\"external_urls\"][\"spotify\"])\n",
    "        print(\"____________________________________________\")\n",
    "        \n",
    "cluster_pred(cluster_predict)"
   ]
  },
  {
   "cell_type": "code",
   "execution_count": null,
   "metadata": {},
   "outputs": [],
   "source": []
  },
  {
   "cell_type": "code",
   "execution_count": null,
   "metadata": {},
   "outputs": [],
   "source": []
  }
 ],
 "metadata": {
  "kernelspec": {
   "display_name": "Python 3",
   "language": "python",
   "name": "python3"
  },
  "language_info": {
   "codemirror_mode": {
    "name": "ipython",
    "version": 3
   },
   "file_extension": ".py",
   "mimetype": "text/x-python",
   "name": "python",
   "nbconvert_exporter": "python",
   "pygments_lexer": "ipython3",
   "version": "3.8.3"
  }
 },
 "nbformat": 4,
 "nbformat_minor": 4
}
