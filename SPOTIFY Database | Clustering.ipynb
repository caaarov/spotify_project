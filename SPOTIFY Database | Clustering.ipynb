{
 "cells": [
  {
   "cell_type": "code",
   "execution_count": 126,
   "metadata": {},
   "outputs": [],
   "source": [
    "import sys\n",
    "#sys.path.insert(1, '/content/drive/MyDrive/Credentials/')\n",
    "from credit_x import *"
   ]
  },
  {
   "cell_type": "code",
   "execution_count": 127,
   "metadata": {},
   "outputs": [],
   "source": [
    "import spotipy\n",
    "import json\n",
    "from spotipy.oauth2 import SpotifyClientCredentials\n",
    "\n",
    "\n",
    "#Initialize SpotiPy with user credentias\n",
    "sp = spotipy.Spotify(auth_manager=SpotifyClientCredentials(client_id= client_id,\n",
    "                                                           client_secret= client_secret))"
   ]
  },
  {
   "cell_type": "code",
   "execution_count": 128,
   "metadata": {},
   "outputs": [],
   "source": [
    "#Playlist I want to scrap\n",
    "\n",
    "playlist_id=\"7htu5ftbLBRFAwiuHVcUAg\"\n",
    "username=\"spotify\"\n",
    "\n",
    "playlist = sp.user_playlist_tracks(username, playlist_id)"
   ]
  },
  {
   "cell_type": "code",
   "execution_count": 130,
   "metadata": {},
   "outputs": [],
   "source": [
    "def get_playlist_tracks(username, playlist_id):\n",
    "    results = sp.user_playlist_tracks(username,playlist_id)\n",
    "    tracks = results['items']\n",
    "    while results['next']:\n",
    "        results = sp.next(results)\n",
    "        tracks.extend(results['items'])\n",
    "    return tracks\n",
    "\n",
    "tracks=get_playlist_tracks(username, playlist_id)"
   ]
  },
  {
   "cell_type": "code",
   "execution_count": 131,
   "metadata": {},
   "outputs": [],
   "source": [
    "def get_playlist_info(tracks):\n",
    "    \n",
    "    playlist_dict={}\n",
    "\n",
    "    for i in range(len(tracks)):\n",
    "        id_list=[]\n",
    "        id_list.append(tracks[i][\"track\"][\"name\"])\n",
    "        #trackname=playlist[\"items\"][s][\"track\"][\"name\"]\n",
    "        for j in range(len(tracks[i][\"track\"][\"artists\"])):\n",
    "            id_list.append(tracks[i][\"track\"][\"artists\"][j][\"name\"])\n",
    "            \n",
    "        playlist_dict[tracks[i][\"track\"][\"id\"]]=id_list\n",
    "        \n",
    "    return playlist_dict\n",
    "\n",
    "playlist_dict=get_playlist_info(tracks)"
   ]
  },
  {
   "cell_type": "code",
   "execution_count": 133,
   "metadata": {},
   "outputs": [
    {
     "data": {
      "text/plain": [
       "9968"
      ]
     },
     "execution_count": 133,
     "metadata": {},
     "output_type": "execute_result"
    }
   ],
   "source": [
    "len(playlist_dict)"
   ]
  },
  {
   "cell_type": "code",
   "execution_count": 6,
   "metadata": {},
   "outputs": [],
   "source": [
    "def features(tracks):\n",
    "    song_features = {}\n",
    "    for i in range(len(tracks)):\n",
    "        song_features[tracks[i][\"track\"][\"id\"]] = sp.audio_features(tracks[i][\"track\"][\"uri\"])\n",
    "    return song_features\n",
    "\n",
    "#big_spotify=features(tracks)"
   ]
  },
  {
   "cell_type": "code",
   "execution_count": 9,
   "metadata": {},
   "outputs": [
    {
     "name": "stdout",
     "output_type": "stream",
     "text": [
      "9968\n"
     ]
    }
   ],
   "source": [
    "#song_id=list(big_spotify.keys()) \n",
    "#print(len(song_id))"
   ]
  },
  {
   "cell_type": "code",
   "execution_count": 11,
   "metadata": {},
   "outputs": [],
   "source": [
    "import pandas as pd\n",
    "\n",
    "def get_features(song_features): \n",
    "    \n",
    "    song_id=list(song_features.keys()) \n",
    "    features=list(song_features[song_id[0]][0])\n",
    "\n",
    "    feature_dict={}\n",
    "\n",
    "    for i in range(len(features)):\n",
    "        value_list=[]\n",
    "\n",
    "        for n in range(len(song_features)): \n",
    "\n",
    "            result=song_features[song_id[n]][0][features[i]]\n",
    "            value_list.append(result)\n",
    "            #print(result)\n",
    "            feature_dict[features[i]]=value_list\n",
    "\n",
    "    df=pd.DataFrame.from_dict(feature_dict)\n",
    "\n",
    "    return df\n",
    "\n",
    "#df = get_features(big_spotify)"
   ]
  },
  {
   "cell_type": "code",
   "execution_count": 14,
   "metadata": {},
   "outputs": [],
   "source": [
    "df_original=df\n",
    "\n",
    "df_original.to_csv(\"/Users/carolinvogt/Becoming_Data_Analyst/Week_07/Day_03/lab-api-wrappers/df_original.csv\")"
   ]
  },
  {
   "cell_type": "code",
   "execution_count": 26,
   "metadata": {},
   "outputs": [],
   "source": [
    "import pandas as pd\n",
    "\n",
    "df_playlist=pd.read_csv(\"df_original.csv\")"
   ]
  },
  {
   "cell_type": "markdown",
   "metadata": {},
   "source": [
    "## Import choosen playlist"
   ]
  },
  {
   "cell_type": "code",
   "execution_count": 27,
   "metadata": {},
   "outputs": [
    {
     "data": {
      "text/html": [
       "<div>\n",
       "<style scoped>\n",
       "    .dataframe tbody tr th:only-of-type {\n",
       "        vertical-align: middle;\n",
       "    }\n",
       "\n",
       "    .dataframe tbody tr th {\n",
       "        vertical-align: top;\n",
       "    }\n",
       "\n",
       "    .dataframe thead th {\n",
       "        text-align: right;\n",
       "    }\n",
       "</style>\n",
       "<table border=\"1\" class=\"dataframe\">\n",
       "  <thead>\n",
       "    <tr style=\"text-align: right;\">\n",
       "      <th></th>\n",
       "      <th>danceability</th>\n",
       "      <th>energy</th>\n",
       "      <th>key</th>\n",
       "      <th>loudness</th>\n",
       "      <th>mode</th>\n",
       "      <th>speechiness</th>\n",
       "      <th>acousticness</th>\n",
       "      <th>instrumentalness</th>\n",
       "      <th>liveness</th>\n",
       "      <th>valence</th>\n",
       "      <th>tempo</th>\n",
       "      <th>type</th>\n",
       "      <th>uri</th>\n",
       "      <th>track_href</th>\n",
       "      <th>analysis_url</th>\n",
       "      <th>duration_ms</th>\n",
       "      <th>time_signature</th>\n",
       "    </tr>\n",
       "    <tr>\n",
       "      <th>id</th>\n",
       "      <th></th>\n",
       "      <th></th>\n",
       "      <th></th>\n",
       "      <th></th>\n",
       "      <th></th>\n",
       "      <th></th>\n",
       "      <th></th>\n",
       "      <th></th>\n",
       "      <th></th>\n",
       "      <th></th>\n",
       "      <th></th>\n",
       "      <th></th>\n",
       "      <th></th>\n",
       "      <th></th>\n",
       "      <th></th>\n",
       "      <th></th>\n",
       "      <th></th>\n",
       "    </tr>\n",
       "  </thead>\n",
       "  <tbody>\n",
       "    <tr>\n",
       "      <th>2MvvoeRt8NcOXWESkxWn3g</th>\n",
       "      <td>0.511</td>\n",
       "      <td>0.472</td>\n",
       "      <td>4</td>\n",
       "      <td>-9.277</td>\n",
       "      <td>1</td>\n",
       "      <td>0.0910</td>\n",
       "      <td>0.534</td>\n",
       "      <td>0.614000</td>\n",
       "      <td>0.1100</td>\n",
       "      <td>0.0399</td>\n",
       "      <td>127.978</td>\n",
       "      <td>audio_features</td>\n",
       "      <td>spotify:track:2MvvoeRt8NcOXWESkxWn3g</td>\n",
       "      <td>https://api.spotify.com/v1/tracks/2MvvoeRt8NcO...</td>\n",
       "      <td>https://api.spotify.com/v1/audio-analysis/2Mvv...</td>\n",
       "      <td>258969</td>\n",
       "      <td>4</td>\n",
       "    </tr>\n",
       "    <tr>\n",
       "      <th>6UFivO2zqqPFPoQYsEMuCc</th>\n",
       "      <td>0.742</td>\n",
       "      <td>0.546</td>\n",
       "      <td>1</td>\n",
       "      <td>-7.694</td>\n",
       "      <td>1</td>\n",
       "      <td>0.0315</td>\n",
       "      <td>0.172</td>\n",
       "      <td>0.380000</td>\n",
       "      <td>0.1150</td>\n",
       "      <td>0.8680</td>\n",
       "      <td>104.996</td>\n",
       "      <td>audio_features</td>\n",
       "      <td>spotify:track:6UFivO2zqqPFPoQYsEMuCc</td>\n",
       "      <td>https://api.spotify.com/v1/tracks/6UFivO2zqqPF...</td>\n",
       "      <td>https://api.spotify.com/v1/audio-analysis/6UFi...</td>\n",
       "      <td>260520</td>\n",
       "      <td>4</td>\n",
       "    </tr>\n",
       "    <tr>\n",
       "      <th>4Musyaro0NM5Awx8b5c627</th>\n",
       "      <td>0.609</td>\n",
       "      <td>0.629</td>\n",
       "      <td>10</td>\n",
       "      <td>-5.024</td>\n",
       "      <td>1</td>\n",
       "      <td>0.0264</td>\n",
       "      <td>0.425</td>\n",
       "      <td>0.000000</td>\n",
       "      <td>0.0978</td>\n",
       "      <td>0.3250</td>\n",
       "      <td>99.955</td>\n",
       "      <td>audio_features</td>\n",
       "      <td>spotify:track:4Musyaro0NM5Awx8b5c627</td>\n",
       "      <td>https://api.spotify.com/v1/tracks/4Musyaro0NM5...</td>\n",
       "      <td>https://api.spotify.com/v1/audio-analysis/4Mus...</td>\n",
       "      <td>241467</td>\n",
       "      <td>4</td>\n",
       "    </tr>\n",
       "    <tr>\n",
       "      <th>1CkvWZme3pRgbzaxZnTl5X</th>\n",
       "      <td>0.729</td>\n",
       "      <td>0.756</td>\n",
       "      <td>8</td>\n",
       "      <td>-5.119</td>\n",
       "      <td>1</td>\n",
       "      <td>0.0294</td>\n",
       "      <td>0.131</td>\n",
       "      <td>0.000000</td>\n",
       "      <td>0.0527</td>\n",
       "      <td>0.5220</td>\n",
       "      <td>104.945</td>\n",
       "      <td>audio_features</td>\n",
       "      <td>spotify:track:1CkvWZme3pRgbzaxZnTl5X</td>\n",
       "      <td>https://api.spotify.com/v1/tracks/1CkvWZme3pRg...</td>\n",
       "      <td>https://api.spotify.com/v1/audio-analysis/1Ckv...</td>\n",
       "      <td>228293</td>\n",
       "      <td>4</td>\n",
       "    </tr>\n",
       "    <tr>\n",
       "      <th>4lLtanYk6tkMvooU0tWzG8</th>\n",
       "      <td>0.706</td>\n",
       "      <td>0.558</td>\n",
       "      <td>2</td>\n",
       "      <td>-7.237</td>\n",
       "      <td>0</td>\n",
       "      <td>0.0593</td>\n",
       "      <td>0.146</td>\n",
       "      <td>0.000000</td>\n",
       "      <td>0.1180</td>\n",
       "      <td>0.2270</td>\n",
       "      <td>110.443</td>\n",
       "      <td>audio_features</td>\n",
       "      <td>spotify:track:4lLtanYk6tkMvooU0tWzG8</td>\n",
       "      <td>https://api.spotify.com/v1/tracks/4lLtanYk6tkM...</td>\n",
       "      <td>https://api.spotify.com/v1/audio-analysis/4lLt...</td>\n",
       "      <td>223253</td>\n",
       "      <td>4</td>\n",
       "    </tr>\n",
       "    <tr>\n",
       "      <th>...</th>\n",
       "      <td>...</td>\n",
       "      <td>...</td>\n",
       "      <td>...</td>\n",
       "      <td>...</td>\n",
       "      <td>...</td>\n",
       "      <td>...</td>\n",
       "      <td>...</td>\n",
       "      <td>...</td>\n",
       "      <td>...</td>\n",
       "      <td>...</td>\n",
       "      <td>...</td>\n",
       "      <td>...</td>\n",
       "      <td>...</td>\n",
       "      <td>...</td>\n",
       "      <td>...</td>\n",
       "      <td>...</td>\n",
       "      <td>...</td>\n",
       "    </tr>\n",
       "    <tr>\n",
       "      <th>2foI6dVPMRC7B3qwjca19u</th>\n",
       "      <td>0.415</td>\n",
       "      <td>0.339</td>\n",
       "      <td>0</td>\n",
       "      <td>-10.278</td>\n",
       "      <td>1</td>\n",
       "      <td>0.0316</td>\n",
       "      <td>0.703</td>\n",
       "      <td>0.000000</td>\n",
       "      <td>0.1750</td>\n",
       "      <td>0.3400</td>\n",
       "      <td>131.765</td>\n",
       "      <td>audio_features</td>\n",
       "      <td>spotify:track:2foI6dVPMRC7B3qwjca19u</td>\n",
       "      <td>https://api.spotify.com/v1/tracks/2foI6dVPMRC7...</td>\n",
       "      <td>https://api.spotify.com/v1/audio-analysis/2foI...</td>\n",
       "      <td>213747</td>\n",
       "      <td>3</td>\n",
       "    </tr>\n",
       "    <tr>\n",
       "      <th>1ZfK0enTcbDvb3LznGG7Wl</th>\n",
       "      <td>0.494</td>\n",
       "      <td>0.531</td>\n",
       "      <td>7</td>\n",
       "      <td>-8.146</td>\n",
       "      <td>1</td>\n",
       "      <td>0.4180</td>\n",
       "      <td>0.586</td>\n",
       "      <td>0.000000</td>\n",
       "      <td>0.3250</td>\n",
       "      <td>0.2120</td>\n",
       "      <td>79.220</td>\n",
       "      <td>audio_features</td>\n",
       "      <td>spotify:track:1ZfK0enTcbDvb3LznGG7Wl</td>\n",
       "      <td>https://api.spotify.com/v1/tracks/1ZfK0enTcbDv...</td>\n",
       "      <td>https://api.spotify.com/v1/audio-analysis/1ZfK...</td>\n",
       "      <td>170427</td>\n",
       "      <td>4</td>\n",
       "    </tr>\n",
       "    <tr>\n",
       "      <th>1GE57bvEZMZijuQAbQve3H</th>\n",
       "      <td>0.534</td>\n",
       "      <td>0.802</td>\n",
       "      <td>7</td>\n",
       "      <td>-4.669</td>\n",
       "      <td>0</td>\n",
       "      <td>0.2190</td>\n",
       "      <td>0.154</td>\n",
       "      <td>0.000004</td>\n",
       "      <td>0.1710</td>\n",
       "      <td>0.7480</td>\n",
       "      <td>179.998</td>\n",
       "      <td>audio_features</td>\n",
       "      <td>spotify:track:1GE57bvEZMZijuQAbQve3H</td>\n",
       "      <td>https://api.spotify.com/v1/tracks/1GE57bvEZMZi...</td>\n",
       "      <td>https://api.spotify.com/v1/audio-analysis/1GE5...</td>\n",
       "      <td>195957</td>\n",
       "      <td>4</td>\n",
       "    </tr>\n",
       "    <tr>\n",
       "      <th>7jA5OcunWRSYXq98puhAX8</th>\n",
       "      <td>0.499</td>\n",
       "      <td>0.468</td>\n",
       "      <td>0</td>\n",
       "      <td>-9.995</td>\n",
       "      <td>0</td>\n",
       "      <td>0.0396</td>\n",
       "      <td>0.795</td>\n",
       "      <td>0.880000</td>\n",
       "      <td>0.0899</td>\n",
       "      <td>0.0763</td>\n",
       "      <td>141.463</td>\n",
       "      <td>audio_features</td>\n",
       "      <td>spotify:track:7jA5OcunWRSYXq98puhAX8</td>\n",
       "      <td>https://api.spotify.com/v1/tracks/7jA5OcunWRSY...</td>\n",
       "      <td>https://api.spotify.com/v1/audio-analysis/7jA5...</td>\n",
       "      <td>157000</td>\n",
       "      <td>4</td>\n",
       "    </tr>\n",
       "    <tr>\n",
       "      <th>21jGcNKet2qwijlDFuPiPb</th>\n",
       "      <td>0.695</td>\n",
       "      <td>0.762</td>\n",
       "      <td>0</td>\n",
       "      <td>-3.497</td>\n",
       "      <td>1</td>\n",
       "      <td>0.0395</td>\n",
       "      <td>0.192</td>\n",
       "      <td>0.002440</td>\n",
       "      <td>0.0863</td>\n",
       "      <td>0.5530</td>\n",
       "      <td>120.042</td>\n",
       "      <td>audio_features</td>\n",
       "      <td>spotify:track:21jGcNKet2qwijlDFuPiPb</td>\n",
       "      <td>https://api.spotify.com/v1/tracks/21jGcNKet2qw...</td>\n",
       "      <td>https://api.spotify.com/v1/audio-analysis/21jG...</td>\n",
       "      <td>215280</td>\n",
       "      <td>4</td>\n",
       "    </tr>\n",
       "  </tbody>\n",
       "</table>\n",
       "<p>9968 rows × 17 columns</p>\n",
       "</div>"
      ],
      "text/plain": [
       "                        danceability  energy  key  loudness  mode  \\\n",
       "id                                                                  \n",
       "2MvvoeRt8NcOXWESkxWn3g         0.511   0.472    4    -9.277     1   \n",
       "6UFivO2zqqPFPoQYsEMuCc         0.742   0.546    1    -7.694     1   \n",
       "4Musyaro0NM5Awx8b5c627         0.609   0.629   10    -5.024     1   \n",
       "1CkvWZme3pRgbzaxZnTl5X         0.729   0.756    8    -5.119     1   \n",
       "4lLtanYk6tkMvooU0tWzG8         0.706   0.558    2    -7.237     0   \n",
       "...                              ...     ...  ...       ...   ...   \n",
       "2foI6dVPMRC7B3qwjca19u         0.415   0.339    0   -10.278     1   \n",
       "1ZfK0enTcbDvb3LznGG7Wl         0.494   0.531    7    -8.146     1   \n",
       "1GE57bvEZMZijuQAbQve3H         0.534   0.802    7    -4.669     0   \n",
       "7jA5OcunWRSYXq98puhAX8         0.499   0.468    0    -9.995     0   \n",
       "21jGcNKet2qwijlDFuPiPb         0.695   0.762    0    -3.497     1   \n",
       "\n",
       "                        speechiness  acousticness  instrumentalness  liveness  \\\n",
       "id                                                                              \n",
       "2MvvoeRt8NcOXWESkxWn3g       0.0910         0.534          0.614000    0.1100   \n",
       "6UFivO2zqqPFPoQYsEMuCc       0.0315         0.172          0.380000    0.1150   \n",
       "4Musyaro0NM5Awx8b5c627       0.0264         0.425          0.000000    0.0978   \n",
       "1CkvWZme3pRgbzaxZnTl5X       0.0294         0.131          0.000000    0.0527   \n",
       "4lLtanYk6tkMvooU0tWzG8       0.0593         0.146          0.000000    0.1180   \n",
       "...                             ...           ...               ...       ...   \n",
       "2foI6dVPMRC7B3qwjca19u       0.0316         0.703          0.000000    0.1750   \n",
       "1ZfK0enTcbDvb3LznGG7Wl       0.4180         0.586          0.000000    0.3250   \n",
       "1GE57bvEZMZijuQAbQve3H       0.2190         0.154          0.000004    0.1710   \n",
       "7jA5OcunWRSYXq98puhAX8       0.0396         0.795          0.880000    0.0899   \n",
       "21jGcNKet2qwijlDFuPiPb       0.0395         0.192          0.002440    0.0863   \n",
       "\n",
       "                        valence    tempo            type  \\\n",
       "id                                                         \n",
       "2MvvoeRt8NcOXWESkxWn3g   0.0399  127.978  audio_features   \n",
       "6UFivO2zqqPFPoQYsEMuCc   0.8680  104.996  audio_features   \n",
       "4Musyaro0NM5Awx8b5c627   0.3250   99.955  audio_features   \n",
       "1CkvWZme3pRgbzaxZnTl5X   0.5220  104.945  audio_features   \n",
       "4lLtanYk6tkMvooU0tWzG8   0.2270  110.443  audio_features   \n",
       "...                         ...      ...             ...   \n",
       "2foI6dVPMRC7B3qwjca19u   0.3400  131.765  audio_features   \n",
       "1ZfK0enTcbDvb3LznGG7Wl   0.2120   79.220  audio_features   \n",
       "1GE57bvEZMZijuQAbQve3H   0.7480  179.998  audio_features   \n",
       "7jA5OcunWRSYXq98puhAX8   0.0763  141.463  audio_features   \n",
       "21jGcNKet2qwijlDFuPiPb   0.5530  120.042  audio_features   \n",
       "\n",
       "                                                         uri  \\\n",
       "id                                                             \n",
       "2MvvoeRt8NcOXWESkxWn3g  spotify:track:2MvvoeRt8NcOXWESkxWn3g   \n",
       "6UFivO2zqqPFPoQYsEMuCc  spotify:track:6UFivO2zqqPFPoQYsEMuCc   \n",
       "4Musyaro0NM5Awx8b5c627  spotify:track:4Musyaro0NM5Awx8b5c627   \n",
       "1CkvWZme3pRgbzaxZnTl5X  spotify:track:1CkvWZme3pRgbzaxZnTl5X   \n",
       "4lLtanYk6tkMvooU0tWzG8  spotify:track:4lLtanYk6tkMvooU0tWzG8   \n",
       "...                                                      ...   \n",
       "2foI6dVPMRC7B3qwjca19u  spotify:track:2foI6dVPMRC7B3qwjca19u   \n",
       "1ZfK0enTcbDvb3LznGG7Wl  spotify:track:1ZfK0enTcbDvb3LznGG7Wl   \n",
       "1GE57bvEZMZijuQAbQve3H  spotify:track:1GE57bvEZMZijuQAbQve3H   \n",
       "7jA5OcunWRSYXq98puhAX8  spotify:track:7jA5OcunWRSYXq98puhAX8   \n",
       "21jGcNKet2qwijlDFuPiPb  spotify:track:21jGcNKet2qwijlDFuPiPb   \n",
       "\n",
       "                                                               track_href  \\\n",
       "id                                                                          \n",
       "2MvvoeRt8NcOXWESkxWn3g  https://api.spotify.com/v1/tracks/2MvvoeRt8NcO...   \n",
       "6UFivO2zqqPFPoQYsEMuCc  https://api.spotify.com/v1/tracks/6UFivO2zqqPF...   \n",
       "4Musyaro0NM5Awx8b5c627  https://api.spotify.com/v1/tracks/4Musyaro0NM5...   \n",
       "1CkvWZme3pRgbzaxZnTl5X  https://api.spotify.com/v1/tracks/1CkvWZme3pRg...   \n",
       "4lLtanYk6tkMvooU0tWzG8  https://api.spotify.com/v1/tracks/4lLtanYk6tkM...   \n",
       "...                                                                   ...   \n",
       "2foI6dVPMRC7B3qwjca19u  https://api.spotify.com/v1/tracks/2foI6dVPMRC7...   \n",
       "1ZfK0enTcbDvb3LznGG7Wl  https://api.spotify.com/v1/tracks/1ZfK0enTcbDv...   \n",
       "1GE57bvEZMZijuQAbQve3H  https://api.spotify.com/v1/tracks/1GE57bvEZMZi...   \n",
       "7jA5OcunWRSYXq98puhAX8  https://api.spotify.com/v1/tracks/7jA5OcunWRSY...   \n",
       "21jGcNKet2qwijlDFuPiPb  https://api.spotify.com/v1/tracks/21jGcNKet2qw...   \n",
       "\n",
       "                                                             analysis_url  \\\n",
       "id                                                                          \n",
       "2MvvoeRt8NcOXWESkxWn3g  https://api.spotify.com/v1/audio-analysis/2Mvv...   \n",
       "6UFivO2zqqPFPoQYsEMuCc  https://api.spotify.com/v1/audio-analysis/6UFi...   \n",
       "4Musyaro0NM5Awx8b5c627  https://api.spotify.com/v1/audio-analysis/4Mus...   \n",
       "1CkvWZme3pRgbzaxZnTl5X  https://api.spotify.com/v1/audio-analysis/1Ckv...   \n",
       "4lLtanYk6tkMvooU0tWzG8  https://api.spotify.com/v1/audio-analysis/4lLt...   \n",
       "...                                                                   ...   \n",
       "2foI6dVPMRC7B3qwjca19u  https://api.spotify.com/v1/audio-analysis/2foI...   \n",
       "1ZfK0enTcbDvb3LznGG7Wl  https://api.spotify.com/v1/audio-analysis/1ZfK...   \n",
       "1GE57bvEZMZijuQAbQve3H  https://api.spotify.com/v1/audio-analysis/1GE5...   \n",
       "7jA5OcunWRSYXq98puhAX8  https://api.spotify.com/v1/audio-analysis/7jA5...   \n",
       "21jGcNKet2qwijlDFuPiPb  https://api.spotify.com/v1/audio-analysis/21jG...   \n",
       "\n",
       "                        duration_ms  time_signature  \n",
       "id                                                   \n",
       "2MvvoeRt8NcOXWESkxWn3g       258969               4  \n",
       "6UFivO2zqqPFPoQYsEMuCc       260520               4  \n",
       "4Musyaro0NM5Awx8b5c627       241467               4  \n",
       "1CkvWZme3pRgbzaxZnTl5X       228293               4  \n",
       "4lLtanYk6tkMvooU0tWzG8       223253               4  \n",
       "...                             ...             ...  \n",
       "2foI6dVPMRC7B3qwjca19u       213747               3  \n",
       "1ZfK0enTcbDvb3LznGG7Wl       170427               4  \n",
       "1GE57bvEZMZijuQAbQve3H       195957               4  \n",
       "7jA5OcunWRSYXq98puhAX8       157000               4  \n",
       "21jGcNKet2qwijlDFuPiPb       215280               4  \n",
       "\n",
       "[9968 rows x 17 columns]"
      ]
     },
     "execution_count": 27,
     "metadata": {},
     "output_type": "execute_result"
    }
   ],
   "source": [
    "df_playlist.set_index('id',inplace=True)\n",
    "df_playlist.drop([\"Unnamed: 0\"],axis=1, inplace=True)\n",
    "df_playlist"
   ]
  },
  {
   "cell_type": "code",
   "execution_count": 28,
   "metadata": {},
   "outputs": [
    {
     "name": "stdout",
     "output_type": "stream",
     "text": [
      "<class 'pandas.core.frame.DataFrame'>\n",
      "Index: 9968 entries, 2MvvoeRt8NcOXWESkxWn3g to 21jGcNKet2qwijlDFuPiPb\n",
      "Data columns (total 17 columns):\n",
      " #   Column            Non-Null Count  Dtype  \n",
      "---  ------            --------------  -----  \n",
      " 0   danceability      9968 non-null   float64\n",
      " 1   energy            9968 non-null   float64\n",
      " 2   key               9968 non-null   int64  \n",
      " 3   loudness          9968 non-null   float64\n",
      " 4   mode              9968 non-null   int64  \n",
      " 5   speechiness       9968 non-null   float64\n",
      " 6   acousticness      9968 non-null   float64\n",
      " 7   instrumentalness  9968 non-null   float64\n",
      " 8   liveness          9968 non-null   float64\n",
      " 9   valence           9968 non-null   float64\n",
      " 10  tempo             9968 non-null   float64\n",
      " 11  type              9968 non-null   object \n",
      " 12  uri               9968 non-null   object \n",
      " 13  track_href        9968 non-null   object \n",
      " 14  analysis_url      9968 non-null   object \n",
      " 15  duration_ms       9968 non-null   int64  \n",
      " 16  time_signature    9968 non-null   int64  \n",
      "dtypes: float64(9), int64(4), object(4)\n",
      "memory usage: 1.4+ MB\n"
     ]
    }
   ],
   "source": [
    "df_playlist.info()"
   ]
  },
  {
   "cell_type": "code",
   "execution_count": 29,
   "metadata": {},
   "outputs": [
    {
     "data": {
      "text/html": [
       "<div>\n",
       "<style scoped>\n",
       "    .dataframe tbody tr th:only-of-type {\n",
       "        vertical-align: middle;\n",
       "    }\n",
       "\n",
       "    .dataframe tbody tr th {\n",
       "        vertical-align: top;\n",
       "    }\n",
       "\n",
       "    .dataframe thead th {\n",
       "        text-align: right;\n",
       "    }\n",
       "</style>\n",
       "<table border=\"1\" class=\"dataframe\">\n",
       "  <thead>\n",
       "    <tr style=\"text-align: right;\">\n",
       "      <th></th>\n",
       "      <th>danceability</th>\n",
       "      <th>energy</th>\n",
       "      <th>key</th>\n",
       "      <th>loudness</th>\n",
       "      <th>mode</th>\n",
       "      <th>speechiness</th>\n",
       "      <th>acousticness</th>\n",
       "      <th>instrumentalness</th>\n",
       "      <th>liveness</th>\n",
       "      <th>valence</th>\n",
       "      <th>tempo</th>\n",
       "      <th>duration_ms</th>\n",
       "    </tr>\n",
       "    <tr>\n",
       "      <th>id</th>\n",
       "      <th></th>\n",
       "      <th></th>\n",
       "      <th></th>\n",
       "      <th></th>\n",
       "      <th></th>\n",
       "      <th></th>\n",
       "      <th></th>\n",
       "      <th></th>\n",
       "      <th></th>\n",
       "      <th></th>\n",
       "      <th></th>\n",
       "      <th></th>\n",
       "    </tr>\n",
       "  </thead>\n",
       "  <tbody>\n",
       "    <tr>\n",
       "      <th>2MvvoeRt8NcOXWESkxWn3g</th>\n",
       "      <td>0.511</td>\n",
       "      <td>0.472</td>\n",
       "      <td>4</td>\n",
       "      <td>-9.277</td>\n",
       "      <td>1</td>\n",
       "      <td>0.0910</td>\n",
       "      <td>0.534</td>\n",
       "      <td>0.614000</td>\n",
       "      <td>0.1100</td>\n",
       "      <td>0.0399</td>\n",
       "      <td>127.978</td>\n",
       "      <td>258969</td>\n",
       "    </tr>\n",
       "    <tr>\n",
       "      <th>6UFivO2zqqPFPoQYsEMuCc</th>\n",
       "      <td>0.742</td>\n",
       "      <td>0.546</td>\n",
       "      <td>1</td>\n",
       "      <td>-7.694</td>\n",
       "      <td>1</td>\n",
       "      <td>0.0315</td>\n",
       "      <td>0.172</td>\n",
       "      <td>0.380000</td>\n",
       "      <td>0.1150</td>\n",
       "      <td>0.8680</td>\n",
       "      <td>104.996</td>\n",
       "      <td>260520</td>\n",
       "    </tr>\n",
       "    <tr>\n",
       "      <th>4Musyaro0NM5Awx8b5c627</th>\n",
       "      <td>0.609</td>\n",
       "      <td>0.629</td>\n",
       "      <td>10</td>\n",
       "      <td>-5.024</td>\n",
       "      <td>1</td>\n",
       "      <td>0.0264</td>\n",
       "      <td>0.425</td>\n",
       "      <td>0.000000</td>\n",
       "      <td>0.0978</td>\n",
       "      <td>0.3250</td>\n",
       "      <td>99.955</td>\n",
       "      <td>241467</td>\n",
       "    </tr>\n",
       "    <tr>\n",
       "      <th>1CkvWZme3pRgbzaxZnTl5X</th>\n",
       "      <td>0.729</td>\n",
       "      <td>0.756</td>\n",
       "      <td>8</td>\n",
       "      <td>-5.119</td>\n",
       "      <td>1</td>\n",
       "      <td>0.0294</td>\n",
       "      <td>0.131</td>\n",
       "      <td>0.000000</td>\n",
       "      <td>0.0527</td>\n",
       "      <td>0.5220</td>\n",
       "      <td>104.945</td>\n",
       "      <td>228293</td>\n",
       "    </tr>\n",
       "    <tr>\n",
       "      <th>4lLtanYk6tkMvooU0tWzG8</th>\n",
       "      <td>0.706</td>\n",
       "      <td>0.558</td>\n",
       "      <td>2</td>\n",
       "      <td>-7.237</td>\n",
       "      <td>0</td>\n",
       "      <td>0.0593</td>\n",
       "      <td>0.146</td>\n",
       "      <td>0.000000</td>\n",
       "      <td>0.1180</td>\n",
       "      <td>0.2270</td>\n",
       "      <td>110.443</td>\n",
       "      <td>223253</td>\n",
       "    </tr>\n",
       "    <tr>\n",
       "      <th>...</th>\n",
       "      <td>...</td>\n",
       "      <td>...</td>\n",
       "      <td>...</td>\n",
       "      <td>...</td>\n",
       "      <td>...</td>\n",
       "      <td>...</td>\n",
       "      <td>...</td>\n",
       "      <td>...</td>\n",
       "      <td>...</td>\n",
       "      <td>...</td>\n",
       "      <td>...</td>\n",
       "      <td>...</td>\n",
       "    </tr>\n",
       "    <tr>\n",
       "      <th>2foI6dVPMRC7B3qwjca19u</th>\n",
       "      <td>0.415</td>\n",
       "      <td>0.339</td>\n",
       "      <td>0</td>\n",
       "      <td>-10.278</td>\n",
       "      <td>1</td>\n",
       "      <td>0.0316</td>\n",
       "      <td>0.703</td>\n",
       "      <td>0.000000</td>\n",
       "      <td>0.1750</td>\n",
       "      <td>0.3400</td>\n",
       "      <td>131.765</td>\n",
       "      <td>213747</td>\n",
       "    </tr>\n",
       "    <tr>\n",
       "      <th>1ZfK0enTcbDvb3LznGG7Wl</th>\n",
       "      <td>0.494</td>\n",
       "      <td>0.531</td>\n",
       "      <td>7</td>\n",
       "      <td>-8.146</td>\n",
       "      <td>1</td>\n",
       "      <td>0.4180</td>\n",
       "      <td>0.586</td>\n",
       "      <td>0.000000</td>\n",
       "      <td>0.3250</td>\n",
       "      <td>0.2120</td>\n",
       "      <td>79.220</td>\n",
       "      <td>170427</td>\n",
       "    </tr>\n",
       "    <tr>\n",
       "      <th>1GE57bvEZMZijuQAbQve3H</th>\n",
       "      <td>0.534</td>\n",
       "      <td>0.802</td>\n",
       "      <td>7</td>\n",
       "      <td>-4.669</td>\n",
       "      <td>0</td>\n",
       "      <td>0.2190</td>\n",
       "      <td>0.154</td>\n",
       "      <td>0.000004</td>\n",
       "      <td>0.1710</td>\n",
       "      <td>0.7480</td>\n",
       "      <td>179.998</td>\n",
       "      <td>195957</td>\n",
       "    </tr>\n",
       "    <tr>\n",
       "      <th>7jA5OcunWRSYXq98puhAX8</th>\n",
       "      <td>0.499</td>\n",
       "      <td>0.468</td>\n",
       "      <td>0</td>\n",
       "      <td>-9.995</td>\n",
       "      <td>0</td>\n",
       "      <td>0.0396</td>\n",
       "      <td>0.795</td>\n",
       "      <td>0.880000</td>\n",
       "      <td>0.0899</td>\n",
       "      <td>0.0763</td>\n",
       "      <td>141.463</td>\n",
       "      <td>157000</td>\n",
       "    </tr>\n",
       "    <tr>\n",
       "      <th>21jGcNKet2qwijlDFuPiPb</th>\n",
       "      <td>0.695</td>\n",
       "      <td>0.762</td>\n",
       "      <td>0</td>\n",
       "      <td>-3.497</td>\n",
       "      <td>1</td>\n",
       "      <td>0.0395</td>\n",
       "      <td>0.192</td>\n",
       "      <td>0.002440</td>\n",
       "      <td>0.0863</td>\n",
       "      <td>0.5530</td>\n",
       "      <td>120.042</td>\n",
       "      <td>215280</td>\n",
       "    </tr>\n",
       "  </tbody>\n",
       "</table>\n",
       "<p>9968 rows × 12 columns</p>\n",
       "</div>"
      ],
      "text/plain": [
       "                        danceability  energy  key  loudness  mode  \\\n",
       "id                                                                  \n",
       "2MvvoeRt8NcOXWESkxWn3g         0.511   0.472    4    -9.277     1   \n",
       "6UFivO2zqqPFPoQYsEMuCc         0.742   0.546    1    -7.694     1   \n",
       "4Musyaro0NM5Awx8b5c627         0.609   0.629   10    -5.024     1   \n",
       "1CkvWZme3pRgbzaxZnTl5X         0.729   0.756    8    -5.119     1   \n",
       "4lLtanYk6tkMvooU0tWzG8         0.706   0.558    2    -7.237     0   \n",
       "...                              ...     ...  ...       ...   ...   \n",
       "2foI6dVPMRC7B3qwjca19u         0.415   0.339    0   -10.278     1   \n",
       "1ZfK0enTcbDvb3LznGG7Wl         0.494   0.531    7    -8.146     1   \n",
       "1GE57bvEZMZijuQAbQve3H         0.534   0.802    7    -4.669     0   \n",
       "7jA5OcunWRSYXq98puhAX8         0.499   0.468    0    -9.995     0   \n",
       "21jGcNKet2qwijlDFuPiPb         0.695   0.762    0    -3.497     1   \n",
       "\n",
       "                        speechiness  acousticness  instrumentalness  liveness  \\\n",
       "id                                                                              \n",
       "2MvvoeRt8NcOXWESkxWn3g       0.0910         0.534          0.614000    0.1100   \n",
       "6UFivO2zqqPFPoQYsEMuCc       0.0315         0.172          0.380000    0.1150   \n",
       "4Musyaro0NM5Awx8b5c627       0.0264         0.425          0.000000    0.0978   \n",
       "1CkvWZme3pRgbzaxZnTl5X       0.0294         0.131          0.000000    0.0527   \n",
       "4lLtanYk6tkMvooU0tWzG8       0.0593         0.146          0.000000    0.1180   \n",
       "...                             ...           ...               ...       ...   \n",
       "2foI6dVPMRC7B3qwjca19u       0.0316         0.703          0.000000    0.1750   \n",
       "1ZfK0enTcbDvb3LznGG7Wl       0.4180         0.586          0.000000    0.3250   \n",
       "1GE57bvEZMZijuQAbQve3H       0.2190         0.154          0.000004    0.1710   \n",
       "7jA5OcunWRSYXq98puhAX8       0.0396         0.795          0.880000    0.0899   \n",
       "21jGcNKet2qwijlDFuPiPb       0.0395         0.192          0.002440    0.0863   \n",
       "\n",
       "                        valence    tempo  duration_ms  \n",
       "id                                                     \n",
       "2MvvoeRt8NcOXWESkxWn3g   0.0399  127.978       258969  \n",
       "6UFivO2zqqPFPoQYsEMuCc   0.8680  104.996       260520  \n",
       "4Musyaro0NM5Awx8b5c627   0.3250   99.955       241467  \n",
       "1CkvWZme3pRgbzaxZnTl5X   0.5220  104.945       228293  \n",
       "4lLtanYk6tkMvooU0tWzG8   0.2270  110.443       223253  \n",
       "...                         ...      ...          ...  \n",
       "2foI6dVPMRC7B3qwjca19u   0.3400  131.765       213747  \n",
       "1ZfK0enTcbDvb3LznGG7Wl   0.2120   79.220       170427  \n",
       "1GE57bvEZMZijuQAbQve3H   0.7480  179.998       195957  \n",
       "7jA5OcunWRSYXq98puhAX8   0.0763  141.463       157000  \n",
       "21jGcNKet2qwijlDFuPiPb   0.5530  120.042       215280  \n",
       "\n",
       "[9968 rows x 12 columns]"
      ]
     },
     "execution_count": 29,
     "metadata": {},
     "output_type": "execute_result"
    }
   ],
   "source": [
    "df_playlist.drop([\"type\",\"uri\",\"track_href\",\"analysis_url\",\"time_signature\"],axis=1,inplace=True)\n",
    "df_playlist"
   ]
  },
  {
   "cell_type": "code",
   "execution_count": 30,
   "metadata": {},
   "outputs": [],
   "source": [
    "li=list(df_playlist.columns)"
   ]
  },
  {
   "cell_type": "code",
   "execution_count": 37,
   "metadata": {},
   "outputs": [],
   "source": [
    "import pandas as pd\n",
    "from sklearn import datasets\n",
    "from sklearn.preprocessing import StandardScaler\n",
    "from sklearn.cluster import KMeans\n",
    "from sklearn.metrics import silhouette_score"
   ]
  },
  {
   "cell_type": "code",
   "execution_count": 46,
   "metadata": {},
   "outputs": [],
   "source": [
    "df_prep = StandardScaler().fit_transform(df_playlist)"
   ]
  },
  {
   "cell_type": "code",
   "execution_count": 47,
   "metadata": {},
   "outputs": [],
   "source": [
    "def auto_kmeans(df,limit):\n",
    "    \n",
    "    n=1\n",
    "    k_means_dict={}\n",
    "    \n",
    "    while n!=limit:\n",
    "    \n",
    "        n=n+1\n",
    "\n",
    "        kmeans = KMeans(n_clusters=8,\n",
    "                    n_init=n,  # try with 1, 4, 8, 20, 30, 100...\n",
    "                    max_iter=2,\n",
    "                    tol=0, ##stop after max_iter or if this value is reached\n",
    "                    algorithm=\"full\",\n",
    "                    random_state=1234)\n",
    "        kmeans.fit(df)\n",
    "\n",
    "        k_means_dict[n]=kmeans.inertia_\n",
    "        \n",
    "        key_minimum=min(k_means_dict, key=k_means_dict.get)\n",
    "        value_minimum=k_means_dict[key_minimum]\n",
    "        \n",
    "    return key_minimum, value_minimum"
   ]
  },
  {
   "cell_type": "code",
   "execution_count": 48,
   "metadata": {
    "scrolled": true
   },
   "outputs": [
    {
     "data": {
      "text/plain": [
       "(132, 70010.89726860306)"
      ]
     },
     "execution_count": 48,
     "metadata": {},
     "output_type": "execute_result"
    }
   ],
   "source": [
    "key_minimum, value_minimum=auto_kmeans(df_prep,200)\n",
    "key_minimum, value_minimum"
   ]
  },
  {
   "cell_type": "markdown",
   "metadata": {},
   "source": [
    "## Chosing K"
   ]
  },
  {
   "cell_type": "code",
   "execution_count": 30,
   "metadata": {
    "scrolled": true
   },
   "outputs": [
    {
     "data": {
      "text/plain": [
       "Text(0.5, 1.0, 'Elbow Method showing the optimal k')"
      ]
     },
     "execution_count": 30,
     "metadata": {},
     "output_type": "execute_result"
    },
    {
     "data": {
      "image/png": "[encoded data removed]",
      "text/plain": [
       "<Figure size 1152x576 with 1 Axes>"
      ]
     },
     "metadata": {
      "needs_background": "light"
     },
     "output_type": "display_data"
    }
   ],
   "source": [
    "K = range(2, 20)\n",
    "inertia = []\n",
    "\n",
    "for k in K:\n",
    "    kmeans = KMeans(n_clusters=k,\n",
    "                    random_state=1234)\n",
    "    kmeans.fit(df_prep)\n",
    "    inertia.append(kmeans.inertia_)\n",
    "\n",
    "import numpy as np\n",
    "import matplotlib.pyplot as plt\n",
    "%matplotlib inline\n",
    "\n",
    "plt.figure(figsize=(16,8))\n",
    "plt.plot(K, inertia, 'bx-')\n",
    "plt.xlabel('k')\n",
    "plt.ylabel('inertia')\n",
    "plt.xticks(np.arange(min(K), max(K)+1, 1.0))\n",
    "plt.title('Elbow Method showing the optimal k')"
   ]
  },
  {
   "cell_type": "markdown",
   "metadata": {},
   "source": [
    "## Silouhette"
   ]
  },
  {
   "cell_type": "code",
   "execution_count": 33,
   "metadata": {},
   "outputs": [
    {
     "data": {
      "text/plain": [
       "Text(0.5, 1.0, 'Silhouette Method showing the optimal k')"
      ]
     },
     "execution_count": 33,
     "metadata": {},
     "output_type": "execute_result"
    },
    {
     "data": {
      "image/png": "[encoded data removed]",
      "text/plain": [
       "<Figure size 1152x576 with 1 Axes>"
      ]
     },
     "metadata": {
      "needs_background": "light"
     },
     "output_type": "display_data"
    }
   ],
   "source": [
    "K = range(2, 20)\n",
    "silhouette = []\n",
    "\n",
    "for k in K:\n",
    "    kmeans = KMeans(n_clusters=k,\n",
    "                    random_state=1234)\n",
    "    kmeans.fit(df_prep)\n",
    "    silhouette.append(silhouette_score(df_prep, kmeans.predict(df_prep)))\n",
    "\n",
    "\n",
    "plt.figure(figsize=(16,8))\n",
    "plt.plot(K, silhouette, 'bx-')\n",
    "plt.xlabel('k')\n",
    "plt.ylabel('silhouette score')\n",
    "plt.xticks(np.arange(min(K), max(K)+1, 1.0))\n",
    "plt.title('Silhouette Method showing the optimal k')"
   ]
  },
  {
   "cell_type": "markdown",
   "metadata": {},
   "source": [
    "## Import Kaggle dataset\n",
    "\n",
    "https://www.kaggle.com/yamaerenay/spotify-dataset-19212020-160k-tracks"
   ]
  },
  {
   "cell_type": "code",
   "execution_count": 160,
   "metadata": {},
   "outputs": [
    {
     "name": "stdout",
     "output_type": "stream",
     "text": [
      "<class 'pandas.core.frame.DataFrame'>\n",
      "RangeIndex: 174389 entries, 0 to 174388\n",
      "Data columns (total 19 columns):\n",
      " #   Column            Non-Null Count   Dtype  \n",
      "---  ------            --------------   -----  \n",
      " 0   acousticness      174389 non-null  float64\n",
      " 1   artists           174389 non-null  object \n",
      " 2   danceability      174389 non-null  float64\n",
      " 3   duration_ms       174389 non-null  int64  \n",
      " 4   energy            174389 non-null  float64\n",
      " 5   explicit          174389 non-null  int64  \n",
      " 6   id                174389 non-null  object \n",
      " 7   instrumentalness  174389 non-null  float64\n",
      " 8   key               174389 non-null  int64  \n",
      " 9   liveness          174389 non-null  float64\n",
      " 10  loudness          174389 non-null  float64\n",
      " 11  mode              174389 non-null  int64  \n",
      " 12  name              174389 non-null  object \n",
      " 13  popularity        174389 non-null  int64  \n",
      " 14  release_date      174389 non-null  object \n",
      " 15  speechiness       174389 non-null  float64\n",
      " 16  tempo             174389 non-null  float64\n",
      " 17  valence           174389 non-null  float64\n",
      " 18  year              174389 non-null  int64  \n",
      "dtypes: float64(9), int64(6), object(4)\n",
      "memory usage: 25.3+ MB\n"
     ]
    }
   ],
   "source": [
    "df_kaggle=pd.read_csv(\"data_160k.csv\")\n",
    "df_kaggle.info()"
   ]
  },
  {
   "cell_type": "code",
   "execution_count": 161,
   "metadata": {},
   "outputs": [
    {
     "data": {
      "text/html": [
       "<div>\n",
       "<style scoped>\n",
       "    .dataframe tbody tr th:only-of-type {\n",
       "        vertical-align: middle;\n",
       "    }\n",
       "\n",
       "    .dataframe tbody tr th {\n",
       "        vertical-align: top;\n",
       "    }\n",
       "\n",
       "    .dataframe thead th {\n",
       "        text-align: right;\n",
       "    }\n",
       "</style>\n",
       "<table border=\"1\" class=\"dataframe\">\n",
       "  <thead>\n",
       "    <tr style=\"text-align: right;\">\n",
       "      <th></th>\n",
       "      <th>danceability</th>\n",
       "      <th>energy</th>\n",
       "      <th>loudness</th>\n",
       "      <th>speechiness</th>\n",
       "      <th>instrumentalness</th>\n",
       "      <th>liveness</th>\n",
       "      <th>valence</th>\n",
       "      <th>tempo</th>\n",
       "    </tr>\n",
       "    <tr>\n",
       "      <th>id</th>\n",
       "      <th></th>\n",
       "      <th></th>\n",
       "      <th></th>\n",
       "      <th></th>\n",
       "      <th></th>\n",
       "      <th></th>\n",
       "      <th></th>\n",
       "      <th></th>\n",
       "    </tr>\n",
       "  </thead>\n",
       "  <tbody>\n",
       "    <tr>\n",
       "      <th>0cS0A1fUEUd1EW3FcF8AEI</th>\n",
       "      <td>0.598</td>\n",
       "      <td>0.224</td>\n",
       "      <td>-12.628</td>\n",
       "      <td>0.0936</td>\n",
       "      <td>0.000522</td>\n",
       "      <td>0.3790</td>\n",
       "      <td>0.6340</td>\n",
       "      <td>149.976</td>\n",
       "    </tr>\n",
       "    <tr>\n",
       "      <th>0hbkKFIJm7Z05H8Zl9w30f</th>\n",
       "      <td>0.852</td>\n",
       "      <td>0.517</td>\n",
       "      <td>-7.261</td>\n",
       "      <td>0.0534</td>\n",
       "      <td>0.026400</td>\n",
       "      <td>0.0809</td>\n",
       "      <td>0.9500</td>\n",
       "      <td>86.889</td>\n",
       "    </tr>\n",
       "    <tr>\n",
       "      <th>11m7laMUgmOKqI3oYzuhne</th>\n",
       "      <td>0.647</td>\n",
       "      <td>0.186</td>\n",
       "      <td>-12.098</td>\n",
       "      <td>0.1740</td>\n",
       "      <td>0.000018</td>\n",
       "      <td>0.5190</td>\n",
       "      <td>0.6890</td>\n",
       "      <td>97.600</td>\n",
       "    </tr>\n",
       "    <tr>\n",
       "      <th>19Lc5SfJJ5O1oaxY0fpwfh</th>\n",
       "      <td>0.730</td>\n",
       "      <td>0.798</td>\n",
       "      <td>-7.311</td>\n",
       "      <td>0.0425</td>\n",
       "      <td>0.801000</td>\n",
       "      <td>0.1280</td>\n",
       "      <td>0.0422</td>\n",
       "      <td>127.997</td>\n",
       "    </tr>\n",
       "    <tr>\n",
       "      <th>2hJjbsLCytGsnAHfdsLejp</th>\n",
       "      <td>0.704</td>\n",
       "      <td>0.707</td>\n",
       "      <td>-6.036</td>\n",
       "      <td>0.0768</td>\n",
       "      <td>0.000246</td>\n",
       "      <td>0.4020</td>\n",
       "      <td>0.2990</td>\n",
       "      <td>122.076</td>\n",
       "    </tr>\n",
       "    <tr>\n",
       "      <th>...</th>\n",
       "      <td>...</td>\n",
       "      <td>...</td>\n",
       "      <td>...</td>\n",
       "      <td>...</td>\n",
       "      <td>...</td>\n",
       "      <td>...</td>\n",
       "      <td>...</td>\n",
       "      <td>...</td>\n",
       "    </tr>\n",
       "    <tr>\n",
       "      <th>46LhBf6TvYjZU2SMvGZAbn</th>\n",
       "      <td>0.792</td>\n",
       "      <td>0.866</td>\n",
       "      <td>-5.089</td>\n",
       "      <td>0.0356</td>\n",
       "      <td>0.000060</td>\n",
       "      <td>0.1780</td>\n",
       "      <td>0.1860</td>\n",
       "      <td>125.972</td>\n",
       "    </tr>\n",
       "    <tr>\n",
       "      <th>7tue2Wemjd0FZzRtDrQFZd</th>\n",
       "      <td>0.429</td>\n",
       "      <td>0.211</td>\n",
       "      <td>-11.665</td>\n",
       "      <td>0.0360</td>\n",
       "      <td>0.000000</td>\n",
       "      <td>0.1960</td>\n",
       "      <td>0.2280</td>\n",
       "      <td>94.710</td>\n",
       "    </tr>\n",
       "    <tr>\n",
       "      <th>48Qj61hOdYmUCFJbpQ29Ob</th>\n",
       "      <td>0.671</td>\n",
       "      <td>0.589</td>\n",
       "      <td>-12.393</td>\n",
       "      <td>0.0282</td>\n",
       "      <td>0.920000</td>\n",
       "      <td>0.1130</td>\n",
       "      <td>0.7140</td>\n",
       "      <td>108.058</td>\n",
       "    </tr>\n",
       "    <tr>\n",
       "      <th>1gcyHQpBQ1lfXGdhZmWrHP</th>\n",
       "      <td>0.462</td>\n",
       "      <td>0.240</td>\n",
       "      <td>-12.077</td>\n",
       "      <td>0.0377</td>\n",
       "      <td>0.000000</td>\n",
       "      <td>0.1130</td>\n",
       "      <td>0.3200</td>\n",
       "      <td>171.319</td>\n",
       "    </tr>\n",
       "    <tr>\n",
       "      <th>57tgYkWQTNHVFEt6xDKKZj</th>\n",
       "      <td>0.677</td>\n",
       "      <td>0.460</td>\n",
       "      <td>-12.237</td>\n",
       "      <td>0.0258</td>\n",
       "      <td>0.891000</td>\n",
       "      <td>0.2150</td>\n",
       "      <td>0.7470</td>\n",
       "      <td>112.208</td>\n",
       "    </tr>\n",
       "  </tbody>\n",
       "</table>\n",
       "<p>174389 rows × 8 columns</p>\n",
       "</div>"
      ],
      "text/plain": [
       "                        danceability  energy  loudness  speechiness  \\\n",
       "id                                                                    \n",
       "0cS0A1fUEUd1EW3FcF8AEI         0.598   0.224   -12.628       0.0936   \n",
       "0hbkKFIJm7Z05H8Zl9w30f         0.852   0.517    -7.261       0.0534   \n",
       "11m7laMUgmOKqI3oYzuhne         0.647   0.186   -12.098       0.1740   \n",
       "19Lc5SfJJ5O1oaxY0fpwfh         0.730   0.798    -7.311       0.0425   \n",
       "2hJjbsLCytGsnAHfdsLejp         0.704   0.707    -6.036       0.0768   \n",
       "...                              ...     ...       ...          ...   \n",
       "46LhBf6TvYjZU2SMvGZAbn         0.792   0.866    -5.089       0.0356   \n",
       "7tue2Wemjd0FZzRtDrQFZd         0.429   0.211   -11.665       0.0360   \n",
       "48Qj61hOdYmUCFJbpQ29Ob         0.671   0.589   -12.393       0.0282   \n",
       "1gcyHQpBQ1lfXGdhZmWrHP         0.462   0.240   -12.077       0.0377   \n",
       "57tgYkWQTNHVFEt6xDKKZj         0.677   0.460   -12.237       0.0258   \n",
       "\n",
       "                        instrumentalness  liveness  valence    tempo  \n",
       "id                                                                    \n",
       "0cS0A1fUEUd1EW3FcF8AEI          0.000522    0.3790   0.6340  149.976  \n",
       "0hbkKFIJm7Z05H8Zl9w30f          0.026400    0.0809   0.9500   86.889  \n",
       "11m7laMUgmOKqI3oYzuhne          0.000018    0.5190   0.6890   97.600  \n",
       "19Lc5SfJJ5O1oaxY0fpwfh          0.801000    0.1280   0.0422  127.997  \n",
       "2hJjbsLCytGsnAHfdsLejp          0.000246    0.4020   0.2990  122.076  \n",
       "...                                  ...       ...      ...      ...  \n",
       "46LhBf6TvYjZU2SMvGZAbn          0.000060    0.1780   0.1860  125.972  \n",
       "7tue2Wemjd0FZzRtDrQFZd          0.000000    0.1960   0.2280   94.710  \n",
       "48Qj61hOdYmUCFJbpQ29Ob          0.920000    0.1130   0.7140  108.058  \n",
       "1gcyHQpBQ1lfXGdhZmWrHP          0.000000    0.1130   0.3200  171.319  \n",
       "57tgYkWQTNHVFEt6xDKKZj          0.891000    0.2150   0.7470  112.208  \n",
       "\n",
       "[174389 rows x 8 columns]"
      ]
     },
     "execution_count": 161,
     "metadata": {},
     "output_type": "execute_result"
    }
   ],
   "source": [
    "df_kaggle.set_index('id',inplace=True)\n",
    "df_kaggle=df_kaggle[li]\n",
    "df_kaggle.drop([\"key\",\"mode\",\"duration_ms\",\"acousticness\"],axis=1,inplace=True)\n",
    "df_kaggle"
   ]
  },
  {
   "cell_type": "code",
   "execution_count": 162,
   "metadata": {},
   "outputs": [
    {
     "data": {
      "image/png": "[encoded data removed]",
      "text/plain": [
       "<Figure size 720x576 with 2 Axes>"
      ]
     },
     "metadata": {
      "needs_background": "light"
     },
     "output_type": "display_data"
    }
   ],
   "source": [
    "# Correlations\n",
    "#function for corr_matrix\n",
    "def corr_matrix_df(df):\n",
    "    import matplotlib.pyplot as plt\n",
    "    import seaborn as sns\n",
    "    \n",
    "    corr_matrix=df.corr(method='pearson')  # default\n",
    "    fig, ax = plt.subplots(figsize=(10, 8))\n",
    "    ax = sns.heatmap(corr_matrix, annot=True)\n",
    "    plt.show()\n",
    "\n",
    "#Calling function\n",
    "corr_matrix_df(df_kaggle)"
   ]
  },
  {
   "cell_type": "markdown",
   "metadata": {},
   "source": [
    "# Scaling"
   ]
  },
  {
   "cell_type": "code",
   "execution_count": 163,
   "metadata": {},
   "outputs": [],
   "source": [
    "df_prep_kaggle = StandardScaler().fit_transform(df_kaggle)"
   ]
  },
  {
   "cell_type": "code",
   "execution_count": 164,
   "metadata": {},
   "outputs": [],
   "source": [
    "import pickle\n",
    "\n",
    "scaler = StandardScaler().fit(df_kaggle)\n",
    "pickle.dump(scaler, open('scaler.pickle', 'wb'))"
   ]
  },
  {
   "cell_type": "code",
   "execution_count": 104,
   "metadata": {},
   "outputs": [],
   "source": [
    "#key_minimum, value_minimum=auto_kmeans(df_prep_kaggle,200)\n",
    "#key_minimum, value_minimum"
   ]
  },
  {
   "cell_type": "markdown",
   "metadata": {},
   "source": [
    "# kmeans model"
   ]
  },
  {
   "cell_type": "code",
   "execution_count": 165,
   "metadata": {},
   "outputs": [],
   "source": [
    "k=26\n",
    "\n",
    "kmeans = KMeans(n_clusters=k,\n",
    "                random_state=1234)\n",
    "cluster_model=kmeans.fit(df_prep_kaggle) #cluster_model = model name"
   ]
  },
  {
   "cell_type": "code",
   "execution_count": 166,
   "metadata": {},
   "outputs": [
    {
     "data": {
      "text/plain": [
       "['model1.pkl']"
      ]
     },
     "execution_count": 166,
     "metadata": {},
     "output_type": "execute_result"
    }
   ],
   "source": [
    "import joblib\n",
    "\n",
    "#save the model\n",
    "\n",
    "model=kmeans\n",
    "joblib.dump(model, 'model1.pkl')  \n",
    "\n",
    "#pickle.dump(kmeans, open(\"save.pkl\", \"wb\"))\n",
    "\n",
    "#model = KMeans(n_clusters=26, random_state=1234)\n",
    "#model.fit(X_prep)\n",
    "# pickle.dump(kmeans, open(\"save.pkl\", \"wb\"))"
   ]
  },
  {
   "cell_type": "code",
   "execution_count": 167,
   "metadata": {},
   "outputs": [],
   "source": [
    "cluster_pred=cluster_model.predict(df_prep_kaggle)"
   ]
  },
  {
   "cell_type": "code",
   "execution_count": 168,
   "metadata": {},
   "outputs": [
    {
     "data": {
      "text/plain": [
       "Index(['0cS0A1fUEUd1EW3FcF8AEI', '0hbkKFIJm7Z05H8Zl9w30f',\n",
       "       '11m7laMUgmOKqI3oYzuhne', '19Lc5SfJJ5O1oaxY0fpwfh',\n",
       "       '2hJjbsLCytGsnAHfdsLejp', '3HnrHGLE9u2MjHtdobfWl9',\n",
       "       '5DlCyqLyX2AOVDTjjkDZ8x', '02FzJbHtqElixxCmrpSCUa',\n",
       "       '02i59gYdjlhBmbbWhf8YuK', '06NUxS2XL3efRh0bloxkHm',\n",
       "       ...\n",
       "       '45XnLMuqf3vRfskEAMUeCH', '1Cbf6PLWsL4s51eFepXx6L',\n",
       "       '4pPFI9jsguIh3wC7Otoyy8', '3ASGdyWXeXsXtOIWtm0tv4',\n",
       "       '52YtxLVUyvtiGPxwwxayHZ', '46LhBf6TvYjZU2SMvGZAbn',\n",
       "       '7tue2Wemjd0FZzRtDrQFZd', '48Qj61hOdYmUCFJbpQ29Ob',\n",
       "       '1gcyHQpBQ1lfXGdhZmWrHP', '57tgYkWQTNHVFEt6xDKKZj'],\n",
       "      dtype='object', name='id', length=174389)"
      ]
     },
     "execution_count": 168,
     "metadata": {},
     "output_type": "execute_result"
    }
   ],
   "source": [
    "df_kaggle.index"
   ]
  },
  {
   "cell_type": "code",
   "execution_count": 169,
   "metadata": {},
   "outputs": [
    {
     "data": {
      "text/html": [
       "<div>\n",
       "<style scoped>\n",
       "    .dataframe tbody tr th:only-of-type {\n",
       "        vertical-align: middle;\n",
       "    }\n",
       "\n",
       "    .dataframe tbody tr th {\n",
       "        vertical-align: top;\n",
       "    }\n",
       "\n",
       "    .dataframe thead th {\n",
       "        text-align: right;\n",
       "    }\n",
       "</style>\n",
       "<table border=\"1\" class=\"dataframe\">\n",
       "  <thead>\n",
       "    <tr style=\"text-align: right;\">\n",
       "      <th></th>\n",
       "      <th>cluster</th>\n",
       "    </tr>\n",
       "    <tr>\n",
       "      <th>id</th>\n",
       "      <th></th>\n",
       "    </tr>\n",
       "  </thead>\n",
       "  <tbody>\n",
       "    <tr>\n",
       "      <th>0cS0A1fUEUd1EW3FcF8AEI</th>\n",
       "      <td>11</td>\n",
       "    </tr>\n",
       "    <tr>\n",
       "      <th>0hbkKFIJm7Z05H8Zl9w30f</th>\n",
       "      <td>7</td>\n",
       "    </tr>\n",
       "    <tr>\n",
       "      <th>11m7laMUgmOKqI3oYzuhne</th>\n",
       "      <td>9</td>\n",
       "    </tr>\n",
       "    <tr>\n",
       "      <th>19Lc5SfJJ5O1oaxY0fpwfh</th>\n",
       "      <td>10</td>\n",
       "    </tr>\n",
       "    <tr>\n",
       "      <th>2hJjbsLCytGsnAHfdsLejp</th>\n",
       "      <td>17</td>\n",
       "    </tr>\n",
       "    <tr>\n",
       "      <th>...</th>\n",
       "      <td>...</td>\n",
       "    </tr>\n",
       "    <tr>\n",
       "      <th>46LhBf6TvYjZU2SMvGZAbn</th>\n",
       "      <td>17</td>\n",
       "    </tr>\n",
       "    <tr>\n",
       "      <th>7tue2Wemjd0FZzRtDrQFZd</th>\n",
       "      <td>22</td>\n",
       "    </tr>\n",
       "    <tr>\n",
       "      <th>48Qj61hOdYmUCFJbpQ29Ob</th>\n",
       "      <td>15</td>\n",
       "    </tr>\n",
       "    <tr>\n",
       "      <th>1gcyHQpBQ1lfXGdhZmWrHP</th>\n",
       "      <td>14</td>\n",
       "    </tr>\n",
       "    <tr>\n",
       "      <th>57tgYkWQTNHVFEt6xDKKZj</th>\n",
       "      <td>15</td>\n",
       "    </tr>\n",
       "  </tbody>\n",
       "</table>\n",
       "<p>174389 rows × 1 columns</p>\n",
       "</div>"
      ],
      "text/plain": [
       "                        cluster\n",
       "id                             \n",
       "0cS0A1fUEUd1EW3FcF8AEI       11\n",
       "0hbkKFIJm7Z05H8Zl9w30f        7\n",
       "11m7laMUgmOKqI3oYzuhne        9\n",
       "19Lc5SfJJ5O1oaxY0fpwfh       10\n",
       "2hJjbsLCytGsnAHfdsLejp       17\n",
       "...                         ...\n",
       "46LhBf6TvYjZU2SMvGZAbn       17\n",
       "7tue2Wemjd0FZzRtDrQFZd       22\n",
       "48Qj61hOdYmUCFJbpQ29Ob       15\n",
       "1gcyHQpBQ1lfXGdhZmWrHP       14\n",
       "57tgYkWQTNHVFEt6xDKKZj       15\n",
       "\n",
       "[174389 rows x 1 columns]"
      ]
     },
     "execution_count": 169,
     "metadata": {},
     "output_type": "execute_result"
    }
   ],
   "source": [
    "Y=pd.DataFrame(cluster_pred)\n",
    "Y.columns=[\"cluster\"]\n",
    "Y.index=df_kaggle.index\n",
    "Y"
   ]
  },
  {
   "cell_type": "code",
   "execution_count": null,
   "metadata": {},
   "outputs": [],
   "source": []
  },
  {
   "cell_type": "markdown",
   "metadata": {},
   "source": [
    "## Concating Y and big_spotify"
   ]
  },
  {
   "cell_type": "code",
   "execution_count": 184,
   "metadata": {},
   "outputs": [
    {
     "data": {
      "text/html": [
       "<div>\n",
       "<style scoped>\n",
       "    .dataframe tbody tr th:only-of-type {\n",
       "        vertical-align: middle;\n",
       "    }\n",
       "\n",
       "    .dataframe tbody tr th {\n",
       "        vertical-align: top;\n",
       "    }\n",
       "\n",
       "    .dataframe thead th {\n",
       "        text-align: right;\n",
       "    }\n",
       "</style>\n",
       "<table border=\"1\" class=\"dataframe\">\n",
       "  <thead>\n",
       "    <tr style=\"text-align: right;\">\n",
       "      <th></th>\n",
       "      <th>danceability</th>\n",
       "      <th>energy</th>\n",
       "      <th>loudness</th>\n",
       "      <th>speechiness</th>\n",
       "      <th>instrumentalness</th>\n",
       "      <th>liveness</th>\n",
       "      <th>valence</th>\n",
       "      <th>tempo</th>\n",
       "    </tr>\n",
       "    <tr>\n",
       "      <th>id</th>\n",
       "      <th></th>\n",
       "      <th></th>\n",
       "      <th></th>\n",
       "      <th></th>\n",
       "      <th></th>\n",
       "      <th></th>\n",
       "      <th></th>\n",
       "      <th></th>\n",
       "    </tr>\n",
       "  </thead>\n",
       "  <tbody>\n",
       "    <tr>\n",
       "      <th>0cS0A1fUEUd1EW3FcF8AEI</th>\n",
       "      <td>0.347919</td>\n",
       "      <td>-0.948791</td>\n",
       "      <td>-0.154111</td>\n",
       "      <td>-0.066549</td>\n",
       "      <td>-0.588004</td>\n",
       "      <td>0.930106</td>\n",
       "      <td>0.413903</td>\n",
       "      <td>1.089753</td>\n",
       "    </tr>\n",
       "    <tr>\n",
       "      <th>0hbkKFIJm7Z05H8Zl9w30f</th>\n",
       "      <td>1.790898</td>\n",
       "      <td>0.125710</td>\n",
       "      <td>0.788862</td>\n",
       "      <td>-0.287113</td>\n",
       "      <td>-0.510657</td>\n",
       "      <td>-0.721489</td>\n",
       "      <td>1.608718</td>\n",
       "      <td>-0.995485</td>\n",
       "    </tr>\n",
       "    <tr>\n",
       "      <th>11m7laMUgmOKqI3oYzuhne</th>\n",
       "      <td>0.626289</td>\n",
       "      <td>-1.088146</td>\n",
       "      <td>-0.060991</td>\n",
       "      <td>0.374580</td>\n",
       "      <td>-0.589511</td>\n",
       "      <td>1.705763</td>\n",
       "      <td>0.621861</td>\n",
       "      <td>-0.641450</td>\n",
       "    </tr>\n",
       "    <tr>\n",
       "      <th>19Lc5SfJJ5O1oaxY0fpwfh</th>\n",
       "      <td>1.097814</td>\n",
       "      <td>1.156204</td>\n",
       "      <td>0.780077</td>\n",
       "      <td>-0.346918</td>\n",
       "      <td>1.804534</td>\n",
       "      <td>-0.460536</td>\n",
       "      <td>-1.823729</td>\n",
       "      <td>0.363273</td>\n",
       "    </tr>\n",
       "    <tr>\n",
       "      <th>2hJjbsLCytGsnAHfdsLejp</th>\n",
       "      <td>0.950107</td>\n",
       "      <td>0.822485</td>\n",
       "      <td>1.004092</td>\n",
       "      <td>-0.158725</td>\n",
       "      <td>-0.588829</td>\n",
       "      <td>1.057535</td>\n",
       "      <td>-0.852753</td>\n",
       "      <td>0.167564</td>\n",
       "    </tr>\n",
       "    <tr>\n",
       "      <th>...</th>\n",
       "      <td>...</td>\n",
       "      <td>...</td>\n",
       "      <td>...</td>\n",
       "      <td>...</td>\n",
       "      <td>...</td>\n",
       "      <td>...</td>\n",
       "      <td>...</td>\n",
       "      <td>...</td>\n",
       "    </tr>\n",
       "    <tr>\n",
       "      <th>46LhBf6TvYjZU2SMvGZAbn</th>\n",
       "      <td>1.450037</td>\n",
       "      <td>1.405576</td>\n",
       "      <td>1.170478</td>\n",
       "      <td>-0.384776</td>\n",
       "      <td>-0.589385</td>\n",
       "      <td>-0.183516</td>\n",
       "      <td>-1.280013</td>\n",
       "      <td>0.296340</td>\n",
       "    </tr>\n",
       "    <tr>\n",
       "      <th>7tue2Wemjd0FZzRtDrQFZd</th>\n",
       "      <td>-0.612173</td>\n",
       "      <td>-0.996465</td>\n",
       "      <td>0.015086</td>\n",
       "      <td>-0.382582</td>\n",
       "      <td>-0.589564</td>\n",
       "      <td>-0.083788</td>\n",
       "      <td>-1.121208</td>\n",
       "      <td>-0.736975</td>\n",
       "    </tr>\n",
       "    <tr>\n",
       "      <th>48Qj61hOdYmUCFJbpQ29Ob</th>\n",
       "      <td>0.762634</td>\n",
       "      <td>0.389751</td>\n",
       "      <td>-0.112822</td>\n",
       "      <td>-0.425378</td>\n",
       "      <td>2.160212</td>\n",
       "      <td>-0.543642</td>\n",
       "      <td>0.716387</td>\n",
       "      <td>-0.295778</td>\n",
       "    </tr>\n",
       "    <tr>\n",
       "      <th>1gcyHQpBQ1lfXGdhZmWrHP</th>\n",
       "      <td>-0.424699</td>\n",
       "      <td>-0.890115</td>\n",
       "      <td>-0.057301</td>\n",
       "      <td>-0.373254</td>\n",
       "      <td>-0.589564</td>\n",
       "      <td>-0.543642</td>\n",
       "      <td>-0.773351</td>\n",
       "      <td>1.795212</td>\n",
       "    </tr>\n",
       "    <tr>\n",
       "      <th>57tgYkWQTNHVFEt6xDKKZj</th>\n",
       "      <td>0.796720</td>\n",
       "      <td>-0.083323</td>\n",
       "      <td>-0.085413</td>\n",
       "      <td>-0.438546</td>\n",
       "      <td>2.073534</td>\n",
       "      <td>0.021479</td>\n",
       "      <td>0.841162</td>\n",
       "      <td>-0.158607</td>\n",
       "    </tr>\n",
       "  </tbody>\n",
       "</table>\n",
       "<p>174389 rows × 8 columns</p>\n",
       "</div>"
      ],
      "text/plain": [
       "                        danceability    energy  loudness  speechiness  \\\n",
       "id                                                                      \n",
       "0cS0A1fUEUd1EW3FcF8AEI      0.347919 -0.948791 -0.154111    -0.066549   \n",
       "0hbkKFIJm7Z05H8Zl9w30f      1.790898  0.125710  0.788862    -0.287113   \n",
       "11m7laMUgmOKqI3oYzuhne      0.626289 -1.088146 -0.060991     0.374580   \n",
       "19Lc5SfJJ5O1oaxY0fpwfh      1.097814  1.156204  0.780077    -0.346918   \n",
       "2hJjbsLCytGsnAHfdsLejp      0.950107  0.822485  1.004092    -0.158725   \n",
       "...                              ...       ...       ...          ...   \n",
       "46LhBf6TvYjZU2SMvGZAbn      1.450037  1.405576  1.170478    -0.384776   \n",
       "7tue2Wemjd0FZzRtDrQFZd     -0.612173 -0.996465  0.015086    -0.382582   \n",
       "48Qj61hOdYmUCFJbpQ29Ob      0.762634  0.389751 -0.112822    -0.425378   \n",
       "1gcyHQpBQ1lfXGdhZmWrHP     -0.424699 -0.890115 -0.057301    -0.373254   \n",
       "57tgYkWQTNHVFEt6xDKKZj      0.796720 -0.083323 -0.085413    -0.438546   \n",
       "\n",
       "                        instrumentalness  liveness   valence     tempo  \n",
       "id                                                                      \n",
       "0cS0A1fUEUd1EW3FcF8AEI         -0.588004  0.930106  0.413903  1.089753  \n",
       "0hbkKFIJm7Z05H8Zl9w30f         -0.510657 -0.721489  1.608718 -0.995485  \n",
       "11m7laMUgmOKqI3oYzuhne         -0.589511  1.705763  0.621861 -0.641450  \n",
       "19Lc5SfJJ5O1oaxY0fpwfh          1.804534 -0.460536 -1.823729  0.363273  \n",
       "2hJjbsLCytGsnAHfdsLejp         -0.588829  1.057535 -0.852753  0.167564  \n",
       "...                                  ...       ...       ...       ...  \n",
       "46LhBf6TvYjZU2SMvGZAbn         -0.589385 -0.183516 -1.280013  0.296340  \n",
       "7tue2Wemjd0FZzRtDrQFZd         -0.589564 -0.083788 -1.121208 -0.736975  \n",
       "48Qj61hOdYmUCFJbpQ29Ob          2.160212 -0.543642  0.716387 -0.295778  \n",
       "1gcyHQpBQ1lfXGdhZmWrHP         -0.589564 -0.543642 -0.773351  1.795212  \n",
       "57tgYkWQTNHVFEt6xDKKZj          2.073534  0.021479  0.841162 -0.158607  \n",
       "\n",
       "[174389 rows x 8 columns]"
      ]
     },
     "execution_count": 184,
     "metadata": {},
     "output_type": "execute_result"
    }
   ],
   "source": [
    "df_prep=pd.DataFrame(df_prep_kaggle)\n",
    "df_prep.columns=df_kaggle.columns\n",
    "df_prep.index=df_kaggle.index\n",
    "df_prep"
   ]
  },
  {
   "cell_type": "code",
   "execution_count": 185,
   "metadata": {},
   "outputs": [],
   "source": [
    "kaggle_clustered_scaled=pd.concat([df_prep,Y],axis=1)"
   ]
  },
  {
   "cell_type": "code",
   "execution_count": 186,
   "metadata": {},
   "outputs": [],
   "source": [
    "df_original=kaggle_clustered_scaled\n",
    "\n",
    "df_original.to_csv(\"/Users/carolinvogt/Becoming_Data_Analyst/Week_07/Day_04/spotify_project/kaggle_clustered_scaled_160k.csv\")\n",
    "\n",
    "\n"
   ]
  },
  {
   "cell_type": "code",
   "execution_count": 172,
   "metadata": {},
   "outputs": [],
   "source": [
    "#kaggle_clustered[\"cluster\"].value_counts()"
   ]
  },
  {
   "cell_type": "code",
   "execution_count": 173,
   "metadata": {},
   "outputs": [
    {
     "data": {
      "image/png": "[encoded data removed]",
      "text/plain": [
       "<Figure size 720x360 with 1 Axes>"
      ]
     },
     "metadata": {
      "needs_background": "light"
     },
     "output_type": "display_data"
    }
   ],
   "source": [
    "import matplotlib.pyplot as plt\n",
    "import seaborn as sns\n",
    "\n",
    "plt.figure(figsize=(10,5))\n",
    "sns.countplot(x=\"cluster\", data=kaggle_clustered)\n",
    "plt.show()"
   ]
  },
  {
   "cell_type": "code",
   "execution_count": 174,
   "metadata": {},
   "outputs": [],
   "source": [
    "import pandas as pd\n",
    "import numpy as np\n",
    "from sklearn.datasets import make_classification\n",
    "from sklearn.cluster import DBSCAN\n",
    "from sklearn.mixture import GaussianMixture\n",
    "from scipy.spatial import distance_matrix\n",
    "import matplotlib.pyplot as plt"
   ]
  },
  {
   "cell_type": "code",
   "execution_count": 175,
   "metadata": {},
   "outputs": [
    {
     "data": {
      "text/plain": [
       "GaussianMixture(covariance_type='tied', n_components=26)"
      ]
     },
     "execution_count": 175,
     "metadata": {},
     "output_type": "execute_result"
    }
   ],
   "source": [
    "gmm2 = GaussianMixture(n_components=26, covariance_type='tied')\n",
    "gmm2_pred=gmm2.fit(df_prep_kaggle)\n",
    "gmm2_pred"
   ]
  },
  {
   "cell_type": "code",
   "execution_count": 176,
   "metadata": {},
   "outputs": [],
   "source": [
    "import joblib\n",
    "\n",
    "#save the model\n",
    "\n",
    "model=kmeans\n",
    "joblib.dump(model, 'model2.pkl')  \n",
    "\n",
    "gmm2_pred2=gmm2_pred.predict(df_prep_kaggle)"
   ]
  },
  {
   "cell_type": "code",
   "execution_count": 177,
   "metadata": {},
   "outputs": [
    {
     "data": {
      "text/plain": [
       "array([12, 11, 21, ...,  9, 22,  9])"
      ]
     },
     "execution_count": 177,
     "metadata": {},
     "output_type": "execute_result"
    }
   ],
   "source": [
    "gmm2_pred2"
   ]
  },
  {
   "cell_type": "code",
   "execution_count": 178,
   "metadata": {},
   "outputs": [],
   "source": [
    "Y=pd.DataFrame(gmm2_pred2)\n",
    "Y.columns=[\"cluster\"]\n",
    "Y.index=df_kaggle.index\n",
    "#Y"
   ]
  },
  {
   "cell_type": "code",
   "execution_count": 179,
   "metadata": {},
   "outputs": [],
   "source": [
    "kaggle_clustered2=pd.concat([df_kaggle,Y],axis=1)\n",
    "df_original2=kaggle_clustered2\n",
    "\n",
    "df_original2.to_csv(\"/Users/carolinvogt/Becoming_Data_Analyst/Week_07/Day_04/spotify_project/kaggle_clustered2_160k.csv\")\n",
    "\n"
   ]
  },
  {
   "cell_type": "code",
   "execution_count": 180,
   "metadata": {},
   "outputs": [
    {
     "data": {
      "image/png": "[encoded data removed]",
      "text/plain": [
       "<Figure size 720x360 with 1 Axes>"
      ]
     },
     "metadata": {
      "needs_background": "light"
     },
     "output_type": "display_data"
    }
   ],
   "source": [
    "import matplotlib.pyplot as plt\n",
    "import seaborn as sns\n",
    "\n",
    "plt.figure(figsize=(10,5))\n",
    "sns.countplot(x=\"cluster\", data=kaggle_clustered2)\n",
    "plt.show()"
   ]
  },
  {
   "cell_type": "code",
   "execution_count": 142,
   "metadata": {},
   "outputs": [],
   "source": [
    "from sklearn.preprocessing import StandardScaler\n",
    "from sklearn.preprocessing import MinMaxScaler\n",
    "from sklearn.preprocessing import Normalizer\n",
    "\n",
    "from imblearn.under_sampling import RandomUnderSampler\n",
    "from imblearn.over_sampling import RandomOverSampler\n",
    "from imblearn.over_sampling import SMOTE\n",
    "from imblearn.under_sampling import TomekLinks\n",
    "\n",
    "from sklearn.ensemble import AdaBoostClassifier\n",
    "from sklearn.ensemble import RandomForestClassifier\n",
    "from sklearn.linear_model import LogisticRegression\n",
    "from sklearn.neighbors import KNeighborsClassifier\n",
    "from sklearn.ensemble import RandomForestRegressor"
   ]
  },
  {
   "cell_type": "code",
   "execution_count": 145,
   "metadata": {},
   "outputs": [],
   "source": [
    "def Autofeature(X,Y,scaler=StandardScaler(), model=RandomForestRegressor()):    # RandomForestClassifier()  or RandomForestRegressor() for Modell\n",
    "    from sklearn.ensemble import RandomForestClassifier\n",
    "    from sklearn.ensemble import RandomForestRegressor\n",
    "    from matplotlib import pyplot\n",
    "    #scaling\n",
    "    scaler_x = scaler.fit(X)\n",
    "    X_scaled = pd.DataFrame(scaler_x.transform(X),columns=X.columns, index=X.index)\n",
    "    #upsampling\n",
    "    #X, y = balance (X_scaled, Y, \"TomekLinks\")\n",
    "    #Xs_scaled, ys = balance (X, y, \"SMOTE\")\n",
    "    model.fit(X_scaled, Y)\n",
    "    # get importance\n",
    "    importance = model.feature_importances_\n",
    "    # summarize feature importance\n",
    "    for i,v in enumerate(importance):\n",
    "        print('Feature: %0d, Score: %.5f' % (i,v))\n",
    "    # plot feature importance\n",
    "    pyplot.bar([x for x in range(len(importance))], importance)\n",
    "    pyplot.show()"
   ]
  },
  {
   "cell_type": "code",
   "execution_count": 146,
   "metadata": {},
   "outputs": [
    {
     "name": "stdout",
     "output_type": "stream",
     "text": [
      "Feature: 0, Score: 0.18110\n",
      "Feature: 1, Score: 0.09452\n",
      "Feature: 2, Score: 0.08613\n",
      "Feature: 3, Score: 0.06630\n",
      "Feature: 4, Score: 0.07950\n",
      "Feature: 5, Score: 0.08311\n",
      "Feature: 6, Score: 0.11169\n",
      "Feature: 7, Score: 0.13179\n",
      "Feature: 8, Score: 0.12653\n",
      "Feature: 9, Score: 0.03933\n"
     ]
    },
    {
     "data": {
      "image/png": "[encoded data removed]",
      "text/plain": [
       "<Figure size 432x288 with 1 Axes>"
      ]
     },
     "metadata": {
      "needs_background": "light"
     },
     "output_type": "display_data"
    }
   ],
   "source": [
    "Y=df_original[\"cluster\"]\n",
    "X=df_original.drop([\"cluster\"],axis=1)\n",
    "\n",
    "Autofeature(X,Y,scaler=StandardScaler(), model=RandomForestRegressor())"
   ]
  },
  {
   "cell_type": "code",
   "execution_count": 120,
   "metadata": {},
   "outputs": [
    {
     "data": {
      "text/plain": [
       "11"
      ]
     },
     "execution_count": 120,
     "metadata": {},
     "output_type": "execute_result"
    }
   ],
   "source": [
    "len(kaggle_clustered.columns) "
   ]
  },
  {
   "cell_type": "code",
   "execution_count": null,
   "metadata": {},
   "outputs": [],
   "source": []
  },
  {
   "cell_type": "code",
   "execution_count": null,
   "metadata": {},
   "outputs": [],
   "source": []
  },
  {
   "cell_type": "code",
   "execution_count": 136,
   "metadata": {},
   "outputs": [],
   "source": [
    "#kaggle_clustered"
   ]
  },
  {
   "cell_type": "code",
   "execution_count": 50,
   "metadata": {},
   "outputs": [
    {
     "ename": "KeyboardInterrupt",
     "evalue": "",
     "output_type": "error",
     "traceback": [
      "\u001b[0;31m---------------------------------------------------------------------------\u001b[0m",
      "\u001b[0;31mKeyboardInterrupt\u001b[0m                         Traceback (most recent call last)",
      "\u001b[0;32m<ipython-input-50-31bea7ad4470>\u001b[0m in \u001b[0;36m<module>\u001b[0;34m\u001b[0m\n\u001b[1;32m      6\u001b[0m                     random_state=1234)\n\u001b[1;32m      7\u001b[0m     \u001b[0mkmeans\u001b[0m\u001b[0;34m.\u001b[0m\u001b[0mfit\u001b[0m\u001b[0;34m(\u001b[0m\u001b[0mdf_prep_kaggle\u001b[0m\u001b[0;34m)\u001b[0m\u001b[0;34m\u001b[0m\u001b[0;34m\u001b[0m\u001b[0m\n\u001b[0;32m----> 8\u001b[0;31m     \u001b[0msilhouette\u001b[0m\u001b[0;34m.\u001b[0m\u001b[0mappend\u001b[0m\u001b[0;34m(\u001b[0m\u001b[0msilhouette_score\u001b[0m\u001b[0;34m(\u001b[0m\u001b[0mdf_prep_kaggle\u001b[0m\u001b[0;34m,\u001b[0m \u001b[0mkmeans\u001b[0m\u001b[0;34m.\u001b[0m\u001b[0mpredict\u001b[0m\u001b[0;34m(\u001b[0m\u001b[0mdf_prep_kaggle\u001b[0m\u001b[0;34m)\u001b[0m\u001b[0;34m)\u001b[0m\u001b[0;34m)\u001b[0m\u001b[0;34m\u001b[0m\u001b[0;34m\u001b[0m\u001b[0m\n\u001b[0m\u001b[1;32m      9\u001b[0m \u001b[0;34m\u001b[0m\u001b[0m\n\u001b[1;32m     10\u001b[0m \u001b[0;34m\u001b[0m\u001b[0m\n",
      "\u001b[0;32m~/opt/anaconda3/lib/python3.8/site-packages/sklearn/utils/validation.py\u001b[0m in \u001b[0;36minner_f\u001b[0;34m(*args, **kwargs)\u001b[0m\n\u001b[1;32m     71\u001b[0m                           FutureWarning)\n\u001b[1;32m     72\u001b[0m         \u001b[0mkwargs\u001b[0m\u001b[0;34m.\u001b[0m\u001b[0mupdate\u001b[0m\u001b[0;34m(\u001b[0m\u001b[0;34m{\u001b[0m\u001b[0mk\u001b[0m\u001b[0;34m:\u001b[0m \u001b[0marg\u001b[0m \u001b[0;32mfor\u001b[0m \u001b[0mk\u001b[0m\u001b[0;34m,\u001b[0m \u001b[0marg\u001b[0m \u001b[0;32min\u001b[0m \u001b[0mzip\u001b[0m\u001b[0;34m(\u001b[0m\u001b[0msig\u001b[0m\u001b[0;34m.\u001b[0m\u001b[0mparameters\u001b[0m\u001b[0;34m,\u001b[0m \u001b[0margs\u001b[0m\u001b[0;34m)\u001b[0m\u001b[0;34m}\u001b[0m\u001b[0;34m)\u001b[0m\u001b[0;34m\u001b[0m\u001b[0;34m\u001b[0m\u001b[0m\n\u001b[0;32m---> 73\u001b[0;31m         \u001b[0;32mreturn\u001b[0m \u001b[0mf\u001b[0m\u001b[0;34m(\u001b[0m\u001b[0;34m**\u001b[0m\u001b[0mkwargs\u001b[0m\u001b[0;34m)\u001b[0m\u001b[0;34m\u001b[0m\u001b[0;34m\u001b[0m\u001b[0m\n\u001b[0m\u001b[1;32m     74\u001b[0m     \u001b[0;32mreturn\u001b[0m \u001b[0minner_f\u001b[0m\u001b[0;34m\u001b[0m\u001b[0;34m\u001b[0m\u001b[0m\n\u001b[1;32m     75\u001b[0m \u001b[0;34m\u001b[0m\u001b[0m\n",
      "\u001b[0;32m~/opt/anaconda3/lib/python3.8/site-packages/sklearn/metrics/cluster/_unsupervised.py\u001b[0m in \u001b[0;36msilhouette_score\u001b[0;34m(X, labels, metric, sample_size, random_state, **kwds)\u001b[0m\n\u001b[1;32m    115\u001b[0m         \u001b[0;32melse\u001b[0m\u001b[0;34m:\u001b[0m\u001b[0;34m\u001b[0m\u001b[0;34m\u001b[0m\u001b[0m\n\u001b[1;32m    116\u001b[0m             \u001b[0mX\u001b[0m\u001b[0;34m,\u001b[0m \u001b[0mlabels\u001b[0m \u001b[0;34m=\u001b[0m \u001b[0mX\u001b[0m\u001b[0;34m[\u001b[0m\u001b[0mindices\u001b[0m\u001b[0;34m]\u001b[0m\u001b[0;34m,\u001b[0m \u001b[0mlabels\u001b[0m\u001b[0;34m[\u001b[0m\u001b[0mindices\u001b[0m\u001b[0;34m]\u001b[0m\u001b[0;34m\u001b[0m\u001b[0;34m\u001b[0m\u001b[0m\n\u001b[0;32m--> 117\u001b[0;31m     \u001b[0;32mreturn\u001b[0m \u001b[0mnp\u001b[0m\u001b[0;34m.\u001b[0m\u001b[0mmean\u001b[0m\u001b[0;34m(\u001b[0m\u001b[0msilhouette_samples\u001b[0m\u001b[0;34m(\u001b[0m\u001b[0mX\u001b[0m\u001b[0;34m,\u001b[0m \u001b[0mlabels\u001b[0m\u001b[0;34m,\u001b[0m \u001b[0mmetric\u001b[0m\u001b[0;34m=\u001b[0m\u001b[0mmetric\u001b[0m\u001b[0;34m,\u001b[0m \u001b[0;34m**\u001b[0m\u001b[0mkwds\u001b[0m\u001b[0;34m)\u001b[0m\u001b[0;34m)\u001b[0m\u001b[0;34m\u001b[0m\u001b[0;34m\u001b[0m\u001b[0m\n\u001b[0m\u001b[1;32m    118\u001b[0m \u001b[0;34m\u001b[0m\u001b[0m\n\u001b[1;32m    119\u001b[0m \u001b[0;34m\u001b[0m\u001b[0m\n",
      "\u001b[0;32m~/opt/anaconda3/lib/python3.8/site-packages/sklearn/utils/validation.py\u001b[0m in \u001b[0;36minner_f\u001b[0;34m(*args, **kwargs)\u001b[0m\n\u001b[1;32m     71\u001b[0m                           FutureWarning)\n\u001b[1;32m     72\u001b[0m         \u001b[0mkwargs\u001b[0m\u001b[0;34m.\u001b[0m\u001b[0mupdate\u001b[0m\u001b[0;34m(\u001b[0m\u001b[0;34m{\u001b[0m\u001b[0mk\u001b[0m\u001b[0;34m:\u001b[0m \u001b[0marg\u001b[0m \u001b[0;32mfor\u001b[0m \u001b[0mk\u001b[0m\u001b[0;34m,\u001b[0m \u001b[0marg\u001b[0m \u001b[0;32min\u001b[0m \u001b[0mzip\u001b[0m\u001b[0;34m(\u001b[0m\u001b[0msig\u001b[0m\u001b[0;34m.\u001b[0m\u001b[0mparameters\u001b[0m\u001b[0;34m,\u001b[0m \u001b[0margs\u001b[0m\u001b[0;34m)\u001b[0m\u001b[0;34m}\u001b[0m\u001b[0;34m)\u001b[0m\u001b[0;34m\u001b[0m\u001b[0;34m\u001b[0m\u001b[0m\n\u001b[0;32m---> 73\u001b[0;31m         \u001b[0;32mreturn\u001b[0m \u001b[0mf\u001b[0m\u001b[0;34m(\u001b[0m\u001b[0;34m**\u001b[0m\u001b[0mkwargs\u001b[0m\u001b[0;34m)\u001b[0m\u001b[0;34m\u001b[0m\u001b[0;34m\u001b[0m\u001b[0m\n\u001b[0m\u001b[1;32m     74\u001b[0m     \u001b[0;32mreturn\u001b[0m \u001b[0minner_f\u001b[0m\u001b[0;34m\u001b[0m\u001b[0;34m\u001b[0m\u001b[0m\n\u001b[1;32m     75\u001b[0m \u001b[0;34m\u001b[0m\u001b[0m\n",
      "\u001b[0;32m~/opt/anaconda3/lib/python3.8/site-packages/sklearn/metrics/cluster/_unsupervised.py\u001b[0m in \u001b[0;36msilhouette_samples\u001b[0;34m(X, labels, metric, **kwds)\u001b[0m\n\u001b[1;32m    232\u001b[0m     reduce_func = functools.partial(_silhouette_reduce,\n\u001b[1;32m    233\u001b[0m                                     labels=labels, label_freqs=label_freqs)\n\u001b[0;32m--> 234\u001b[0;31m     results = zip(*pairwise_distances_chunked(X, reduce_func=reduce_func,\n\u001b[0m\u001b[1;32m    235\u001b[0m                                               **kwds))\n\u001b[1;32m    236\u001b[0m     \u001b[0mintra_clust_dists\u001b[0m\u001b[0;34m,\u001b[0m \u001b[0minter_clust_dists\u001b[0m \u001b[0;34m=\u001b[0m \u001b[0mresults\u001b[0m\u001b[0;34m\u001b[0m\u001b[0;34m\u001b[0m\u001b[0m\n",
      "\u001b[0;32m~/opt/anaconda3/lib/python3.8/site-packages/sklearn/metrics/pairwise.py\u001b[0m in \u001b[0;36mpairwise_distances_chunked\u001b[0;34m(X, Y, reduce_func, metric, n_jobs, working_memory, **kwds)\u001b[0m\n\u001b[1;32m   1610\u001b[0m         \u001b[0;32melse\u001b[0m\u001b[0;34m:\u001b[0m\u001b[0;34m\u001b[0m\u001b[0;34m\u001b[0m\u001b[0m\n\u001b[1;32m   1611\u001b[0m             \u001b[0mX_chunk\u001b[0m \u001b[0;34m=\u001b[0m \u001b[0mX\u001b[0m\u001b[0;34m[\u001b[0m\u001b[0msl\u001b[0m\u001b[0;34m]\u001b[0m\u001b[0;34m\u001b[0m\u001b[0;34m\u001b[0m\u001b[0m\n\u001b[0;32m-> 1612\u001b[0;31m         D_chunk = pairwise_distances(X_chunk, Y, metric=metric,\n\u001b[0m\u001b[1;32m   1613\u001b[0m                                      n_jobs=n_jobs, **kwds)\n\u001b[1;32m   1614\u001b[0m         if ((X is Y or Y is None)\n",
      "\u001b[0;32m~/opt/anaconda3/lib/python3.8/site-packages/sklearn/utils/validation.py\u001b[0m in \u001b[0;36minner_f\u001b[0;34m(*args, **kwargs)\u001b[0m\n\u001b[1;32m     71\u001b[0m                           FutureWarning)\n\u001b[1;32m     72\u001b[0m         \u001b[0mkwargs\u001b[0m\u001b[0;34m.\u001b[0m\u001b[0mupdate\u001b[0m\u001b[0;34m(\u001b[0m\u001b[0;34m{\u001b[0m\u001b[0mk\u001b[0m\u001b[0;34m:\u001b[0m \u001b[0marg\u001b[0m \u001b[0;32mfor\u001b[0m \u001b[0mk\u001b[0m\u001b[0;34m,\u001b[0m \u001b[0marg\u001b[0m \u001b[0;32min\u001b[0m \u001b[0mzip\u001b[0m\u001b[0;34m(\u001b[0m\u001b[0msig\u001b[0m\u001b[0;34m.\u001b[0m\u001b[0mparameters\u001b[0m\u001b[0;34m,\u001b[0m \u001b[0margs\u001b[0m\u001b[0;34m)\u001b[0m\u001b[0;34m}\u001b[0m\u001b[0;34m)\u001b[0m\u001b[0;34m\u001b[0m\u001b[0;34m\u001b[0m\u001b[0m\n\u001b[0;32m---> 73\u001b[0;31m         \u001b[0;32mreturn\u001b[0m \u001b[0mf\u001b[0m\u001b[0;34m(\u001b[0m\u001b[0;34m**\u001b[0m\u001b[0mkwargs\u001b[0m\u001b[0;34m)\u001b[0m\u001b[0;34m\u001b[0m\u001b[0;34m\u001b[0m\u001b[0m\n\u001b[0m\u001b[1;32m     74\u001b[0m     \u001b[0;32mreturn\u001b[0m \u001b[0minner_f\u001b[0m\u001b[0;34m\u001b[0m\u001b[0;34m\u001b[0m\u001b[0m\n\u001b[1;32m     75\u001b[0m \u001b[0;34m\u001b[0m\u001b[0m\n",
      "\u001b[0;32m~/opt/anaconda3/lib/python3.8/site-packages/sklearn/metrics/pairwise.py\u001b[0m in \u001b[0;36mpairwise_distances\u001b[0;34m(X, Y, metric, n_jobs, force_all_finite, **kwds)\u001b[0m\n\u001b[1;32m   1773\u001b[0m         \u001b[0mfunc\u001b[0m \u001b[0;34m=\u001b[0m \u001b[0mpartial\u001b[0m\u001b[0;34m(\u001b[0m\u001b[0mdistance\u001b[0m\u001b[0;34m.\u001b[0m\u001b[0mcdist\u001b[0m\u001b[0;34m,\u001b[0m \u001b[0mmetric\u001b[0m\u001b[0;34m=\u001b[0m\u001b[0mmetric\u001b[0m\u001b[0;34m,\u001b[0m \u001b[0;34m**\u001b[0m\u001b[0mkwds\u001b[0m\u001b[0;34m)\u001b[0m\u001b[0;34m\u001b[0m\u001b[0;34m\u001b[0m\u001b[0m\n\u001b[1;32m   1774\u001b[0m \u001b[0;34m\u001b[0m\u001b[0m\n\u001b[0;32m-> 1775\u001b[0;31m     \u001b[0;32mreturn\u001b[0m \u001b[0m_parallel_pairwise\u001b[0m\u001b[0;34m(\u001b[0m\u001b[0mX\u001b[0m\u001b[0;34m,\u001b[0m \u001b[0mY\u001b[0m\u001b[0;34m,\u001b[0m \u001b[0mfunc\u001b[0m\u001b[0;34m,\u001b[0m \u001b[0mn_jobs\u001b[0m\u001b[0;34m,\u001b[0m \u001b[0;34m**\u001b[0m\u001b[0mkwds\u001b[0m\u001b[0;34m)\u001b[0m\u001b[0;34m\u001b[0m\u001b[0;34m\u001b[0m\u001b[0m\n\u001b[0m\u001b[1;32m   1776\u001b[0m \u001b[0;34m\u001b[0m\u001b[0m\n\u001b[1;32m   1777\u001b[0m \u001b[0;34m\u001b[0m\u001b[0m\n",
      "\u001b[0;32m~/opt/anaconda3/lib/python3.8/site-packages/sklearn/metrics/pairwise.py\u001b[0m in \u001b[0;36m_parallel_pairwise\u001b[0;34m(X, Y, func, n_jobs, **kwds)\u001b[0m\n\u001b[1;32m   1357\u001b[0m \u001b[0;34m\u001b[0m\u001b[0m\n\u001b[1;32m   1358\u001b[0m     \u001b[0;32mif\u001b[0m \u001b[0meffective_n_jobs\u001b[0m\u001b[0;34m(\u001b[0m\u001b[0mn_jobs\u001b[0m\u001b[0;34m)\u001b[0m \u001b[0;34m==\u001b[0m \u001b[0;36m1\u001b[0m\u001b[0;34m:\u001b[0m\u001b[0;34m\u001b[0m\u001b[0;34m\u001b[0m\u001b[0m\n\u001b[0;32m-> 1359\u001b[0;31m         \u001b[0;32mreturn\u001b[0m \u001b[0mfunc\u001b[0m\u001b[0;34m(\u001b[0m\u001b[0mX\u001b[0m\u001b[0;34m,\u001b[0m \u001b[0mY\u001b[0m\u001b[0;34m,\u001b[0m \u001b[0;34m**\u001b[0m\u001b[0mkwds\u001b[0m\u001b[0;34m)\u001b[0m\u001b[0;34m\u001b[0m\u001b[0;34m\u001b[0m\u001b[0m\n\u001b[0m\u001b[1;32m   1360\u001b[0m \u001b[0;34m\u001b[0m\u001b[0m\n\u001b[1;32m   1361\u001b[0m     \u001b[0;31m# enforce a threading backend to prevent data communication overhead\u001b[0m\u001b[0;34m\u001b[0m\u001b[0;34m\u001b[0m\u001b[0;34m\u001b[0m\u001b[0m\n",
      "\u001b[0;32m~/opt/anaconda3/lib/python3.8/site-packages/sklearn/utils/validation.py\u001b[0m in \u001b[0;36minner_f\u001b[0;34m(*args, **kwargs)\u001b[0m\n\u001b[1;32m     71\u001b[0m                           FutureWarning)\n\u001b[1;32m     72\u001b[0m         \u001b[0mkwargs\u001b[0m\u001b[0;34m.\u001b[0m\u001b[0mupdate\u001b[0m\u001b[0;34m(\u001b[0m\u001b[0;34m{\u001b[0m\u001b[0mk\u001b[0m\u001b[0;34m:\u001b[0m \u001b[0marg\u001b[0m \u001b[0;32mfor\u001b[0m \u001b[0mk\u001b[0m\u001b[0;34m,\u001b[0m \u001b[0marg\u001b[0m \u001b[0;32min\u001b[0m \u001b[0mzip\u001b[0m\u001b[0;34m(\u001b[0m\u001b[0msig\u001b[0m\u001b[0;34m.\u001b[0m\u001b[0mparameters\u001b[0m\u001b[0;34m,\u001b[0m \u001b[0margs\u001b[0m\u001b[0;34m)\u001b[0m\u001b[0;34m}\u001b[0m\u001b[0;34m)\u001b[0m\u001b[0;34m\u001b[0m\u001b[0;34m\u001b[0m\u001b[0m\n\u001b[0;32m---> 73\u001b[0;31m         \u001b[0;32mreturn\u001b[0m \u001b[0mf\u001b[0m\u001b[0;34m(\u001b[0m\u001b[0;34m**\u001b[0m\u001b[0mkwargs\u001b[0m\u001b[0;34m)\u001b[0m\u001b[0;34m\u001b[0m\u001b[0;34m\u001b[0m\u001b[0m\n\u001b[0m\u001b[1;32m     74\u001b[0m     \u001b[0;32mreturn\u001b[0m \u001b[0minner_f\u001b[0m\u001b[0;34m\u001b[0m\u001b[0;34m\u001b[0m\u001b[0m\n\u001b[1;32m     75\u001b[0m \u001b[0;34m\u001b[0m\u001b[0m\n",
      "\u001b[0;32m~/opt/anaconda3/lib/python3.8/site-packages/sklearn/metrics/pairwise.py\u001b[0m in \u001b[0;36meuclidean_distances\u001b[0;34m(X, Y, Y_norm_squared, squared, X_norm_squared)\u001b[0m\n\u001b[1;32m    307\u001b[0m     \u001b[0;32melse\u001b[0m\u001b[0;34m:\u001b[0m\u001b[0;34m\u001b[0m\u001b[0;34m\u001b[0m\u001b[0m\n\u001b[1;32m    308\u001b[0m         \u001b[0;31m# if dtype is already float64, no need to chunk and upcast\u001b[0m\u001b[0;34m\u001b[0m\u001b[0;34m\u001b[0m\u001b[0;34m\u001b[0m\u001b[0m\n\u001b[0;32m--> 309\u001b[0;31m         \u001b[0mdistances\u001b[0m \u001b[0;34m=\u001b[0m \u001b[0;34m-\u001b[0m \u001b[0;36m2\u001b[0m \u001b[0;34m*\u001b[0m \u001b[0msafe_sparse_dot\u001b[0m\u001b[0;34m(\u001b[0m\u001b[0mX\u001b[0m\u001b[0;34m,\u001b[0m \u001b[0mY\u001b[0m\u001b[0;34m.\u001b[0m\u001b[0mT\u001b[0m\u001b[0;34m,\u001b[0m \u001b[0mdense_output\u001b[0m\u001b[0;34m=\u001b[0m\u001b[0;32mTrue\u001b[0m\u001b[0;34m)\u001b[0m\u001b[0;34m\u001b[0m\u001b[0;34m\u001b[0m\u001b[0m\n\u001b[0m\u001b[1;32m    310\u001b[0m         \u001b[0mdistances\u001b[0m \u001b[0;34m+=\u001b[0m \u001b[0mXX\u001b[0m\u001b[0;34m\u001b[0m\u001b[0;34m\u001b[0m\u001b[0m\n\u001b[1;32m    311\u001b[0m         \u001b[0mdistances\u001b[0m \u001b[0;34m+=\u001b[0m \u001b[0mYY\u001b[0m\u001b[0;34m\u001b[0m\u001b[0;34m\u001b[0m\u001b[0m\n",
      "\u001b[0;31mKeyboardInterrupt\u001b[0m: "
     ]
    }
   ],
   "source": [
    "#K = range(2, 20)\n",
    "#silhouette = []\n",
    "\n",
    "#for k in K:\n",
    "    #kmeans = KMeans(n_clusters=k,\n",
    "                    #random_state=1234)\n",
    "    #kmeans.fit(df_prep_kaggle)\n",
    "    #silhouette.append(silhouette_score(df_prep_kaggle, kmeans.predict(df_prep_kaggle)))\n",
    "\n",
    "\n",
    "#plt.figure(figsize=(16,8))\n",
    "#plt.plot(K, silhouette, 'bx-')\n",
    "#plt.xlabel('k')\n",
    "#plt.ylabel('silhouette score')\n",
    "#plt.xticks(np.arange(min(K), max(K)+1, 1.0))\n",
    "#plt.title('Silhouette Method showing the optimal k')"
   ]
  }
 ],
 "metadata": {
  "kernelspec": {
   "display_name": "Python 3",
   "language": "python",
   "name": "python3"
  },
  "language_info": {
   "codemirror_mode": {
    "name": "ipython",
    "version": 3
   },
   "file_extension": ".py",
   "mimetype": "text/x-python",
   "name": "python",
   "nbconvert_exporter": "python",
   "pygments_lexer": "ipython3",
   "version": "3.8.3"
  }
 },
 "nbformat": 4,
 "nbformat_minor": 4
}
